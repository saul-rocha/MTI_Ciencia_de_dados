{
 "cells": [
  {
   "cell_type": "markdown",
   "metadata": {},
   "source": [
    "## Análise Exploratória de Dados Cavid Picos - ALUNO ***"
   ]
  },
  {
   "cell_type": "markdown",
   "metadata": {},
   "source": [
    "#### Neste notebook usaremos uma pesquisa recente realizada em Picos sobre o covid na região. Nosso objetivo é fazer uma investigação inicial dos dados a fim de detectar problemas com os dados, necessidade de mais variáveis, falhas na organização e necessidades de transformação."
   ]
  },
  {
   "cell_type": "code",
   "execution_count": 1,
   "metadata": {},
   "outputs": [],
   "source": [
    "# Importando os pacotes \n",
    "import numpy as np\n",
    "import pandas as pd\n",
    "import matplotlib as mat\n",
    "import matplotlib.pyplot as plt"
   ]
  },
  {
   "cell_type": "markdown",
   "metadata": {},
   "source": [
    "## : Neste seção você deve carregar o dataset (Apenas a primeira pagina):\n",
    "    - Apresentar as informações gerais\n",
    "    - Renomear as colunas (Para fascilitar o acesso as variaveis)\n",
    "    - Identificar valores ausentes(Nulos) e Trata-los: Você pode excluir as linhas, colunas, substituir valores, enfim. Escolha a o método que acha correto e explique o motivo da escolha. \n",
    "    - Identificar dados que podem ser convertidos em dados categoricos e trata-los\n",
    "    \n",
    "    OBS: Sempre que for excluir uma informação faça uma copia do dataset original. Exemplo: df (original), df_clean(valore ausentes tratados), df_categoricos (Apenas com as variaveis categoricas)"
   ]
  },
  {
   "cell_type": "code",
   "execution_count": 2,
   "metadata": {},
   "outputs": [],
   "source": [
    "# Carregando o dataset (Apenas pagina 1 com coluna ID se index)\n",
    "#(Coloque o código aqui)\n",
    "df = pd.read_csv(\"covid_picos - Completo.csv\", sep=\",\")"
   ]
  },
  {
   "cell_type": "code",
   "execution_count": 3,
   "metadata": {},
   "outputs": [],
   "source": [
    "#renomenado colunas (Utilize a lista abaixo como nome nome para as colunas)\n",
    "columns1 = ['Id','Numero_da_Notificacao','Data_da_Notificacao','Data_do_inicio_dos_sintomas','Profissional_de_Seguranca',\n",
    "'Raca_Cor','Sexo','Data_de_Nascimento','Idade','Bairro','Sintoma_Dor_de_Garganta','Sintoma_Dispneia','Sintoma_Febre','Sintoma_Tosse',\n",
    "'Sintoma_Outros','Sintoma_Dor_de_cabeca','Sintoma_Disturbio_Gustativo','Sintoma_Disturbio_Olfativo','Sintoma_Coriza','Assintomatico',\n",
    "'Condições_Doenças_respiratorias_cronicas_descompensadas','Condições_Doenças_cardiacas_cronicas','Condições_Diabetes','Condições_Doencas_renais_cronicas_',\n",
    "'Condições_Imunossupressao','Condições_Gestante','Condições_Portador_de_doenças_cromossómicas','Condições_Obesidade',\n",
    "'Tipo_de_Teste','Classificacao_Final','Evolucao_do_Caso']"
   ]
  },
  {
   "cell_type": "code",
   "execution_count": 4,
   "metadata": {},
   "outputs": [
    {
     "data": {
      "text/html": [
       "<div>\n",
       "<style scoped>\n",
       "    .dataframe tbody tr th:only-of-type {\n",
       "        vertical-align: middle;\n",
       "    }\n",
       "\n",
       "    .dataframe tbody tr th {\n",
       "        vertical-align: top;\n",
       "    }\n",
       "\n",
       "    .dataframe thead th {\n",
       "        text-align: right;\n",
       "    }\n",
       "</style>\n",
       "<table border=\"1\" class=\"dataframe\">\n",
       "  <thead>\n",
       "    <tr style=\"text-align: right;\">\n",
       "      <th></th>\n",
       "      <th>ID</th>\n",
       "      <th>Nº da notificação</th>\n",
       "      <th>Data da Notificação</th>\n",
       "      <th>Data do início dos sintomas</th>\n",
       "      <th>É profissional de saúde?</th>\n",
       "      <th>Raça/Cor</th>\n",
       "      <th>Sexo</th>\n",
       "      <th>Data de Nascimento</th>\n",
       "      <th>Idade</th>\n",
       "      <th>Bairro</th>\n",
       "      <th>...</th>\n",
       "      <th>Condições - Doenças cardíacas crônicas</th>\n",
       "      <th>Condições - Diabetes</th>\n",
       "      <th>Condições - Doenças renais crônicas</th>\n",
       "      <th>Condições - Imunossupressão</th>\n",
       "      <th>Condições- Gestante</th>\n",
       "      <th>Condições - Portador de doenças cromossómicas</th>\n",
       "      <th>Condições - Obesidade</th>\n",
       "      <th>Tipo de Teste</th>\n",
       "      <th>Classificação Final</th>\n",
       "      <th>Evolução do Caso</th>\n",
       "    </tr>\n",
       "  </thead>\n",
       "  <tbody>\n",
       "    <tr>\n",
       "      <th>0</th>\n",
       "      <td>1</td>\n",
       "      <td>2.220004e+11</td>\n",
       "      <td>4/25/2020</td>\n",
       "      <td>4/18/2020</td>\n",
       "      <td>Sim</td>\n",
       "      <td>Branca</td>\n",
       "      <td>Feminino</td>\n",
       "      <td>8/7/1986</td>\n",
       "      <td>33</td>\n",
       "      <td>MALVA</td>\n",
       "      <td>...</td>\n",
       "      <td>Não</td>\n",
       "      <td>Não</td>\n",
       "      <td>Não</td>\n",
       "      <td>Não</td>\n",
       "      <td>Não</td>\n",
       "      <td>Não</td>\n",
       "      <td>Não</td>\n",
       "      <td>TESTE RAPIDO - ANTICORPO</td>\n",
       "      <td>Confirmado Laboratorial</td>\n",
       "      <td>Cura</td>\n",
       "    </tr>\n",
       "    <tr>\n",
       "      <th>1</th>\n",
       "      <td>2</td>\n",
       "      <td>2.220004e+11</td>\n",
       "      <td>4/25/2020</td>\n",
       "      <td>3/23/2020</td>\n",
       "      <td>Não</td>\n",
       "      <td>Parda</td>\n",
       "      <td>Masculino</td>\n",
       "      <td>4/22/1985</td>\n",
       "      <td>35</td>\n",
       "      <td>PASSAGEM DAS PEDRAS</td>\n",
       "      <td>...</td>\n",
       "      <td>Não</td>\n",
       "      <td>Não</td>\n",
       "      <td>Não</td>\n",
       "      <td>Não</td>\n",
       "      <td>Não</td>\n",
       "      <td>Não</td>\n",
       "      <td>Não</td>\n",
       "      <td>TESTE RAPIDO - ANTICORPO</td>\n",
       "      <td>Confirmado Laboratorial</td>\n",
       "      <td>Cura</td>\n",
       "    </tr>\n",
       "    <tr>\n",
       "      <th>2</th>\n",
       "      <td>3</td>\n",
       "      <td>2.220004e+11</td>\n",
       "      <td>4/25/2020</td>\n",
       "      <td>4/15/2020</td>\n",
       "      <td>Sim</td>\n",
       "      <td>Parda</td>\n",
       "      <td>Feminino</td>\n",
       "      <td>11/19/1988</td>\n",
       "      <td>31</td>\n",
       "      <td>PASSAGEM DAS PEDRAS</td>\n",
       "      <td>...</td>\n",
       "      <td>Não</td>\n",
       "      <td>Não</td>\n",
       "      <td>Não</td>\n",
       "      <td>Não</td>\n",
       "      <td>Não</td>\n",
       "      <td>Não</td>\n",
       "      <td>Não</td>\n",
       "      <td>TESTE RAPIDO - ANTICORPO</td>\n",
       "      <td>Confirmado Laboratorial</td>\n",
       "      <td>Cura</td>\n",
       "    </tr>\n",
       "  </tbody>\n",
       "</table>\n",
       "<p>3 rows × 31 columns</p>\n",
       "</div>"
      ],
      "text/plain": [
       "   ID  Nº da notificação Data da Notificação Data do início dos sintomas  \\\n",
       "0   1       2.220004e+11           4/25/2020                   4/18/2020   \n",
       "1   2       2.220004e+11           4/25/2020                   3/23/2020   \n",
       "2   3       2.220004e+11           4/25/2020                   4/15/2020   \n",
       "\n",
       "  É profissional de saúde? Raça/Cor       Sexo Data de Nascimento  Idade  \\\n",
       "0                      Sim   Branca   Feminino           8/7/1986     33   \n",
       "1                      Não    Parda  Masculino          4/22/1985     35   \n",
       "2                      Sim    Parda   Feminino         11/19/1988     31   \n",
       "\n",
       "                Bairro  ... Condições - Doenças cardíacas crônicas  \\\n",
       "0                MALVA  ...                                    Não   \n",
       "1  PASSAGEM DAS PEDRAS  ...                                    Não   \n",
       "2  PASSAGEM DAS PEDRAS  ...                                    Não   \n",
       "\n",
       "  Condições - Diabetes Condições - Doenças renais crônicas   \\\n",
       "0                  Não                                  Não   \n",
       "1                  Não                                  Não   \n",
       "2                  Não                                  Não   \n",
       "\n",
       "  Condições - Imunossupressão Condições- Gestante  \\\n",
       "0                         Não                 Não   \n",
       "1                         Não                 Não   \n",
       "2                         Não                 Não   \n",
       "\n",
       "  Condições - Portador de doenças cromossómicas Condições - Obesidade  \\\n",
       "0                                           Não                   Não   \n",
       "1                                           Não                   Não   \n",
       "2                                           Não                   Não   \n",
       "\n",
       "               Tipo de Teste      Classificação Final Evolução do Caso  \n",
       "0  TESTE RAPIDO - ANTICORPO  Confirmado Laboratorial             Cura  \n",
       "1  TESTE RAPIDO - ANTICORPO  Confirmado Laboratorial             Cura  \n",
       "2  TESTE RAPIDO - ANTICORPO  Confirmado Laboratorial             Cura  \n",
       "\n",
       "[3 rows x 31 columns]"
      ]
     },
     "execution_count": 4,
     "metadata": {},
     "output_type": "execute_result"
    }
   ],
   "source": [
    "df.head(3)"
   ]
  },
  {
   "cell_type": "code",
   "execution_count": 5,
   "metadata": {},
   "outputs": [
    {
     "data": {
      "text/html": [
       "<div>\n",
       "<style scoped>\n",
       "    .dataframe tbody tr th:only-of-type {\n",
       "        vertical-align: middle;\n",
       "    }\n",
       "\n",
       "    .dataframe tbody tr th {\n",
       "        vertical-align: top;\n",
       "    }\n",
       "\n",
       "    .dataframe thead th {\n",
       "        text-align: right;\n",
       "    }\n",
       "</style>\n",
       "<table border=\"1\" class=\"dataframe\">\n",
       "  <thead>\n",
       "    <tr style=\"text-align: right;\">\n",
       "      <th></th>\n",
       "      <th>Id</th>\n",
       "      <th>Numero_da_Notificacao</th>\n",
       "      <th>Data_da_Notificacao</th>\n",
       "      <th>Data_do_inicio_dos_sintomas</th>\n",
       "      <th>Profissional_de_Seguranca</th>\n",
       "      <th>Raca_Cor</th>\n",
       "      <th>Sexo</th>\n",
       "      <th>Data_de_Nascimento</th>\n",
       "      <th>Idade</th>\n",
       "      <th>Bairro</th>\n",
       "      <th>...</th>\n",
       "      <th>Condições_Doenças_cardiacas_cronicas</th>\n",
       "      <th>Condições_Diabetes</th>\n",
       "      <th>Condições_Doencas_renais_cronicas_</th>\n",
       "      <th>Condições_Imunossupressao</th>\n",
       "      <th>Condições_Gestante</th>\n",
       "      <th>Condições_Portador_de_doenças_cromossómicas</th>\n",
       "      <th>Condições_Obesidade</th>\n",
       "      <th>Tipo_de_Teste</th>\n",
       "      <th>Classificacao_Final</th>\n",
       "      <th>Evolucao_do_Caso</th>\n",
       "    </tr>\n",
       "  </thead>\n",
       "  <tbody>\n",
       "    <tr>\n",
       "      <th>0</th>\n",
       "      <td>1</td>\n",
       "      <td>2.220004e+11</td>\n",
       "      <td>4/25/2020</td>\n",
       "      <td>4/18/2020</td>\n",
       "      <td>Sim</td>\n",
       "      <td>Branca</td>\n",
       "      <td>Feminino</td>\n",
       "      <td>8/7/1986</td>\n",
       "      <td>33</td>\n",
       "      <td>MALVA</td>\n",
       "      <td>...</td>\n",
       "      <td>Não</td>\n",
       "      <td>Não</td>\n",
       "      <td>Não</td>\n",
       "      <td>Não</td>\n",
       "      <td>Não</td>\n",
       "      <td>Não</td>\n",
       "      <td>Não</td>\n",
       "      <td>TESTE RAPIDO - ANTICORPO</td>\n",
       "      <td>Confirmado Laboratorial</td>\n",
       "      <td>Cura</td>\n",
       "    </tr>\n",
       "    <tr>\n",
       "      <th>1</th>\n",
       "      <td>2</td>\n",
       "      <td>2.220004e+11</td>\n",
       "      <td>4/25/2020</td>\n",
       "      <td>3/23/2020</td>\n",
       "      <td>Não</td>\n",
       "      <td>Parda</td>\n",
       "      <td>Masculino</td>\n",
       "      <td>4/22/1985</td>\n",
       "      <td>35</td>\n",
       "      <td>PASSAGEM DAS PEDRAS</td>\n",
       "      <td>...</td>\n",
       "      <td>Não</td>\n",
       "      <td>Não</td>\n",
       "      <td>Não</td>\n",
       "      <td>Não</td>\n",
       "      <td>Não</td>\n",
       "      <td>Não</td>\n",
       "      <td>Não</td>\n",
       "      <td>TESTE RAPIDO - ANTICORPO</td>\n",
       "      <td>Confirmado Laboratorial</td>\n",
       "      <td>Cura</td>\n",
       "    </tr>\n",
       "    <tr>\n",
       "      <th>2</th>\n",
       "      <td>3</td>\n",
       "      <td>2.220004e+11</td>\n",
       "      <td>4/25/2020</td>\n",
       "      <td>4/15/2020</td>\n",
       "      <td>Sim</td>\n",
       "      <td>Parda</td>\n",
       "      <td>Feminino</td>\n",
       "      <td>11/19/1988</td>\n",
       "      <td>31</td>\n",
       "      <td>PASSAGEM DAS PEDRAS</td>\n",
       "      <td>...</td>\n",
       "      <td>Não</td>\n",
       "      <td>Não</td>\n",
       "      <td>Não</td>\n",
       "      <td>Não</td>\n",
       "      <td>Não</td>\n",
       "      <td>Não</td>\n",
       "      <td>Não</td>\n",
       "      <td>TESTE RAPIDO - ANTICORPO</td>\n",
       "      <td>Confirmado Laboratorial</td>\n",
       "      <td>Cura</td>\n",
       "    </tr>\n",
       "  </tbody>\n",
       "</table>\n",
       "<p>3 rows × 31 columns</p>\n",
       "</div>"
      ],
      "text/plain": [
       "   Id  Numero_da_Notificacao Data_da_Notificacao Data_do_inicio_dos_sintomas  \\\n",
       "0   1           2.220004e+11           4/25/2020                   4/18/2020   \n",
       "1   2           2.220004e+11           4/25/2020                   3/23/2020   \n",
       "2   3           2.220004e+11           4/25/2020                   4/15/2020   \n",
       "\n",
       "  Profissional_de_Seguranca Raca_Cor       Sexo Data_de_Nascimento  Idade  \\\n",
       "0                       Sim   Branca   Feminino           8/7/1986     33   \n",
       "1                       Não    Parda  Masculino          4/22/1985     35   \n",
       "2                       Sim    Parda   Feminino         11/19/1988     31   \n",
       "\n",
       "                Bairro  ... Condições_Doenças_cardiacas_cronicas  \\\n",
       "0                MALVA  ...                                  Não   \n",
       "1  PASSAGEM DAS PEDRAS  ...                                  Não   \n",
       "2  PASSAGEM DAS PEDRAS  ...                                  Não   \n",
       "\n",
       "  Condições_Diabetes Condições_Doencas_renais_cronicas_  \\\n",
       "0                Não                                Não   \n",
       "1                Não                                Não   \n",
       "2                Não                                Não   \n",
       "\n",
       "  Condições_Imunossupressao Condições_Gestante  \\\n",
       "0                       Não                Não   \n",
       "1                       Não                Não   \n",
       "2                       Não                Não   \n",
       "\n",
       "  Condições_Portador_de_doenças_cromossómicas Condições_Obesidade  \\\n",
       "0                                         Não                 Não   \n",
       "1                                         Não                 Não   \n",
       "2                                         Não                 Não   \n",
       "\n",
       "               Tipo_de_Teste      Classificacao_Final Evolucao_do_Caso  \n",
       "0  TESTE RAPIDO - ANTICORPO  Confirmado Laboratorial             Cura  \n",
       "1  TESTE RAPIDO - ANTICORPO  Confirmado Laboratorial             Cura  \n",
       "2  TESTE RAPIDO - ANTICORPO  Confirmado Laboratorial             Cura  \n",
       "\n",
       "[3 rows x 31 columns]"
      ]
     },
     "execution_count": 5,
     "metadata": {},
     "output_type": "execute_result"
    }
   ],
   "source": [
    "#Aprensentando informações gerais\n",
    "df_rename = df.set_axis(columns1, axis=\"columns\")\n",
    "df_rename.head(3)"
   ]
  },
  {
   "cell_type": "code",
   "execution_count": 6,
   "metadata": {},
   "outputs": [
    {
     "data": {
      "text/html": [
       "<div>\n",
       "<style scoped>\n",
       "    .dataframe tbody tr th:only-of-type {\n",
       "        vertical-align: middle;\n",
       "    }\n",
       "\n",
       "    .dataframe tbody tr th {\n",
       "        vertical-align: top;\n",
       "    }\n",
       "\n",
       "    .dataframe thead th {\n",
       "        text-align: right;\n",
       "    }\n",
       "</style>\n",
       "<table border=\"1\" class=\"dataframe\">\n",
       "  <thead>\n",
       "    <tr style=\"text-align: right;\">\n",
       "      <th></th>\n",
       "      <th>Id</th>\n",
       "      <th>Numero_da_Notificacao</th>\n",
       "      <th>Idade</th>\n",
       "    </tr>\n",
       "  </thead>\n",
       "  <tbody>\n",
       "    <tr>\n",
       "      <th>count</th>\n",
       "      <td>4525.000000</td>\n",
       "      <td>4.521000e+03</td>\n",
       "      <td>4525.000000</td>\n",
       "    </tr>\n",
       "    <tr>\n",
       "      <th>mean</th>\n",
       "      <td>2263.000000</td>\n",
       "      <td>2.271392e+11</td>\n",
       "      <td>40.601547</td>\n",
       "    </tr>\n",
       "    <tr>\n",
       "      <th>std</th>\n",
       "      <td>1306.399314</td>\n",
       "      <td>1.019331e+11</td>\n",
       "      <td>17.482457</td>\n",
       "    </tr>\n",
       "    <tr>\n",
       "      <th>min</th>\n",
       "      <td>1.000000</td>\n",
       "      <td>1.120062e+11</td>\n",
       "      <td>0.000000</td>\n",
       "    </tr>\n",
       "    <tr>\n",
       "      <th>25%</th>\n",
       "      <td>1132.000000</td>\n",
       "      <td>2.220111e+11</td>\n",
       "      <td>28.000000</td>\n",
       "    </tr>\n",
       "    <tr>\n",
       "      <th>50%</th>\n",
       "      <td>2263.000000</td>\n",
       "      <td>2.220192e+11</td>\n",
       "      <td>38.000000</td>\n",
       "    </tr>\n",
       "    <tr>\n",
       "      <th>75%</th>\n",
       "      <td>3394.000000</td>\n",
       "      <td>2.220356e+11</td>\n",
       "      <td>52.000000</td>\n",
       "    </tr>\n",
       "    <tr>\n",
       "      <th>max</th>\n",
       "      <td>4525.000000</td>\n",
       "      <td>4.120039e+12</td>\n",
       "      <td>104.000000</td>\n",
       "    </tr>\n",
       "  </tbody>\n",
       "</table>\n",
       "</div>"
      ],
      "text/plain": [
       "                Id  Numero_da_Notificacao        Idade\n",
       "count  4525.000000           4.521000e+03  4525.000000\n",
       "mean   2263.000000           2.271392e+11    40.601547\n",
       "std    1306.399314           1.019331e+11    17.482457\n",
       "min       1.000000           1.120062e+11     0.000000\n",
       "25%    1132.000000           2.220111e+11    28.000000\n",
       "50%    2263.000000           2.220192e+11    38.000000\n",
       "75%    3394.000000           2.220356e+11    52.000000\n",
       "max    4525.000000           4.120039e+12   104.000000"
      ]
     },
     "execution_count": 6,
     "metadata": {},
     "output_type": "execute_result"
    }
   ],
   "source": [
    "#Identificando valores ausentes\n",
    "\n",
    "#retorna valores estatisticos para variaveis numericas\n",
    "df_rename.describe()\n",
    "\n"
   ]
  },
  {
   "cell_type": "code",
   "execution_count": 7,
   "metadata": {},
   "outputs": [
    {
     "name": "stdout",
     "output_type": "stream",
     "text": [
      "<class 'pandas.core.frame.DataFrame'>\n",
      "RangeIndex: 4525 entries, 0 to 4524\n",
      "Data columns (total 31 columns):\n",
      " #   Column                                                   Non-Null Count  Dtype  \n",
      "---  ------                                                   --------------  -----  \n",
      " 0   Id                                                       4525 non-null   int64  \n",
      " 1   Numero_da_Notificacao                                    4521 non-null   float64\n",
      " 2   Data_da_Notificacao                                      4521 non-null   object \n",
      " 3   Data_do_inicio_dos_sintomas                              4521 non-null   object \n",
      " 4   Profissional_de_Seguranca                                4525 non-null   object \n",
      " 5   Raca_Cor                                                 4515 non-null   object \n",
      " 6   Sexo                                                     4525 non-null   object \n",
      " 7   Data_de_Nascimento                                       4525 non-null   object \n",
      " 8   Idade                                                    4525 non-null   int64  \n",
      " 9   Bairro                                                   4525 non-null   object \n",
      " 10  Sintoma_Dor_de_Garganta                                  4521 non-null   object \n",
      " 11  Sintoma_Dispneia                                         4523 non-null   object \n",
      " 12  Sintoma_Febre                                            4521 non-null   object \n",
      " 13  Sintoma_Tosse                                            4521 non-null   object \n",
      " 14  Sintoma_Outros                                           4521 non-null   object \n",
      " 15  Sintoma_Dor_de_cabeca                                    4521 non-null   object \n",
      " 16  Sintoma_Disturbio_Gustativo                              4521 non-null   object \n",
      " 17  Sintoma_Disturbio_Olfativo                               4521 non-null   object \n",
      " 18  Sintoma_Coriza                                           4521 non-null   object \n",
      " 19  Assintomatico                                            4521 non-null   object \n",
      " 20  Condições_Doenças_respiratorias_cronicas_descompensadas  4520 non-null   object \n",
      " 21  Condições_Doenças_cardiacas_cronicas                     4522 non-null   object \n",
      " 22  Condições_Diabetes                                       4520 non-null   object \n",
      " 23  Condições_Doencas_renais_cronicas_                       4521 non-null   object \n",
      " 24  Condições_Imunossupressao                                4520 non-null   object \n",
      " 25  Condições_Gestante                                       4520 non-null   object \n",
      " 26  Condições_Portador_de_doenças_cromossómicas              4520 non-null   object \n",
      " 27  Condições_Obesidade                                      4521 non-null   object \n",
      " 28  Tipo_de_Teste                                            4525 non-null   object \n",
      " 29  Classificacao_Final                                      4257 non-null   object \n",
      " 30  Evolucao_do_Caso                                         4348 non-null   object \n",
      "dtypes: float64(1), int64(2), object(28)\n",
      "memory usage: 1.1+ MB\n"
     ]
    }
   ],
   "source": [
    "#retorna resumo de valores nao nulos\n",
    "df_rename.info()"
   ]
  },
  {
   "cell_type": "code",
   "execution_count": 8,
   "metadata": {},
   "outputs": [
    {
     "data": {
      "text/plain": [
       "Id                                                           0\n",
       "Numero_da_Notificacao                                        4\n",
       "Data_da_Notificacao                                          4\n",
       "Data_do_inicio_dos_sintomas                                  4\n",
       "Profissional_de_Seguranca                                    0\n",
       "Raca_Cor                                                    10\n",
       "Sexo                                                         0\n",
       "Data_de_Nascimento                                           0\n",
       "Idade                                                        0\n",
       "Bairro                                                       0\n",
       "Sintoma_Dor_de_Garganta                                      4\n",
       "Sintoma_Dispneia                                             2\n",
       "Sintoma_Febre                                                4\n",
       "Sintoma_Tosse                                                4\n",
       "Sintoma_Outros                                               4\n",
       "Sintoma_Dor_de_cabeca                                        4\n",
       "Sintoma_Disturbio_Gustativo                                  4\n",
       "Sintoma_Disturbio_Olfativo                                   4\n",
       "Sintoma_Coriza                                               4\n",
       "Assintomatico                                                4\n",
       "Condições_Doenças_respiratorias_cronicas_descompensadas      5\n",
       "Condições_Doenças_cardiacas_cronicas                         3\n",
       "Condições_Diabetes                                           5\n",
       "Condições_Doencas_renais_cronicas_                           4\n",
       "Condições_Imunossupressao                                    5\n",
       "Condições_Gestante                                           5\n",
       "Condições_Portador_de_doenças_cromossómicas                  5\n",
       "Condições_Obesidade                                          4\n",
       "Tipo_de_Teste                                                0\n",
       "Classificacao_Final                                        268\n",
       "Evolucao_do_Caso                                           177\n",
       "dtype: int64"
      ]
     },
     "execution_count": 8,
     "metadata": {},
     "output_type": "execute_result"
    }
   ],
   "source": [
    "#retorna a soma dos valores nulos encontrados\n",
    "df_rename.isnull().sum()"
   ]
  },
  {
   "cell_type": "code",
   "execution_count": null,
   "metadata": {},
   "outputs": [],
   "source": []
  },
  {
   "cell_type": "code",
   "execution_count": 9,
   "metadata": {},
   "outputs": [
    {
     "data": {
      "text/plain": [
       "Id                                                          0\n",
       "Numero_da_Notificacao                                       4\n",
       "Data_da_Notificacao                                         4\n",
       "Data_do_inicio_dos_sintomas                                 4\n",
       "Profissional_de_Seguranca                                   0\n",
       "Raca_Cor                                                   10\n",
       "Sexo                                                        0\n",
       "Data_de_Nascimento                                          0\n",
       "Idade                                                       0\n",
       "Bairro                                                      0\n",
       "Sintoma_Dor_de_Garganta                                     4\n",
       "Sintoma_Dispneia                                            2\n",
       "Sintoma_Febre                                               4\n",
       "Sintoma_Tosse                                               4\n",
       "Sintoma_Outros                                              4\n",
       "Sintoma_Dor_de_cabeca                                       4\n",
       "Sintoma_Disturbio_Gustativo                                 4\n",
       "Sintoma_Disturbio_Olfativo                                  4\n",
       "Sintoma_Coriza                                              4\n",
       "Assintomatico                                               4\n",
       "Condições_Doenças_respiratorias_cronicas_descompensadas     5\n",
       "Condições_Doenças_cardiacas_cronicas                        3\n",
       "Condições_Diabetes                                          5\n",
       "Condições_Doencas_renais_cronicas_                          4\n",
       "Condições_Imunossupressao                                   5\n",
       "Condições_Gestante                                          5\n",
       "Condições_Portador_de_doenças_cromossómicas                 5\n",
       "Condições_Obesidade                                         4\n",
       "Tipo_de_Teste                                               0\n",
       "Classificacao_Final                                         0\n",
       "Evolucao_do_Caso                                            0\n",
       "dtype: int64"
      ]
     },
     "execution_count": 9,
     "metadata": {},
     "output_type": "execute_result"
    }
   ],
   "source": [
    "#Tratando valores ausentes\n",
    "\n",
    "#retira os valores nulos da evoolução dos casos resultando em classificação final os 91 valores nulos onde\n",
    "# nas mesmas linhas contém 91 óbitos na coluna Classificação final\n",
    "df_rename.dropna(subset= [\"Evolucao_do_Caso\"], inplace=True)\n",
    "\n",
    "##logo os mesmos podem ser confirmados\n",
    "df_rename[\"Classificacao_Final\"].fillna(\"Confirmado Laboratorial\", inplace=True)\n",
    "df_rename.isnull().sum()\n"
   ]
  },
  {
   "cell_type": "code",
   "execution_count": 10,
   "metadata": {},
   "outputs": [],
   "source": [
    "lista = [\"Profissional_de_Seguranca\", \"Condições_Doenças_cardiacas_cronicas\", \"Condições_Diabetes\", \"Condições_Doencas_renais_cronicas_\",\"Condições_Imunossupressao\", \"Condições_Gestante\", \"Condições_Portador_de_doenças_cromossómicas\", \"Condições_Obesidade\"]"
   ]
  },
  {
   "cell_type": "code",
   "execution_count": 11,
   "metadata": {
    "scrolled": true
   },
   "outputs": [],
   "source": [
    "# Tranformando strings em numeros (Neste caso converta apenas as variaveis com SIM ou Não)\n",
    "for a in df_rename:\n",
    "    if a in lista:\n",
    "        df_rename = df_rename.replace({'Sim': 1})\n",
    "        df_rename = df_rename.replace({'Não': 0})"
   ]
  },
  {
   "cell_type": "code",
   "execution_count": 12,
   "metadata": {},
   "outputs": [
    {
     "data": {
      "text/html": [
       "<div>\n",
       "<style scoped>\n",
       "    .dataframe tbody tr th:only-of-type {\n",
       "        vertical-align: middle;\n",
       "    }\n",
       "\n",
       "    .dataframe tbody tr th {\n",
       "        vertical-align: top;\n",
       "    }\n",
       "\n",
       "    .dataframe thead th {\n",
       "        text-align: right;\n",
       "    }\n",
       "</style>\n",
       "<table border=\"1\" class=\"dataframe\">\n",
       "  <thead>\n",
       "    <tr style=\"text-align: right;\">\n",
       "      <th></th>\n",
       "      <th>Id</th>\n",
       "      <th>Numero_da_Notificacao</th>\n",
       "      <th>Data_da_Notificacao</th>\n",
       "      <th>Data_do_inicio_dos_sintomas</th>\n",
       "      <th>Profissional_de_Seguranca</th>\n",
       "      <th>Raca_Cor</th>\n",
       "      <th>Sexo</th>\n",
       "      <th>Data_de_Nascimento</th>\n",
       "      <th>Idade</th>\n",
       "      <th>Bairro</th>\n",
       "      <th>...</th>\n",
       "      <th>Condições_Doenças_cardiacas_cronicas</th>\n",
       "      <th>Condições_Diabetes</th>\n",
       "      <th>Condições_Doencas_renais_cronicas_</th>\n",
       "      <th>Condições_Imunossupressao</th>\n",
       "      <th>Condições_Gestante</th>\n",
       "      <th>Condições_Portador_de_doenças_cromossómicas</th>\n",
       "      <th>Condições_Obesidade</th>\n",
       "      <th>Tipo_de_Teste</th>\n",
       "      <th>Classificacao_Final</th>\n",
       "      <th>Evolucao_do_Caso</th>\n",
       "    </tr>\n",
       "  </thead>\n",
       "  <tbody>\n",
       "    <tr>\n",
       "      <th>0</th>\n",
       "      <td>1</td>\n",
       "      <td>2.220004e+11</td>\n",
       "      <td>4/25/2020</td>\n",
       "      <td>4/18/2020</td>\n",
       "      <td>1</td>\n",
       "      <td>Branca</td>\n",
       "      <td>Feminino</td>\n",
       "      <td>8/7/1986</td>\n",
       "      <td>33</td>\n",
       "      <td>MALVA</td>\n",
       "      <td>...</td>\n",
       "      <td>0.0</td>\n",
       "      <td>0.0</td>\n",
       "      <td>0.0</td>\n",
       "      <td>0.0</td>\n",
       "      <td>0.0</td>\n",
       "      <td>0.0</td>\n",
       "      <td>0.0</td>\n",
       "      <td>TESTE RAPIDO - ANTICORPO</td>\n",
       "      <td>Confirmado Laboratorial</td>\n",
       "      <td>Cura</td>\n",
       "    </tr>\n",
       "    <tr>\n",
       "      <th>1</th>\n",
       "      <td>2</td>\n",
       "      <td>2.220004e+11</td>\n",
       "      <td>4/25/2020</td>\n",
       "      <td>3/23/2020</td>\n",
       "      <td>0</td>\n",
       "      <td>Parda</td>\n",
       "      <td>Masculino</td>\n",
       "      <td>4/22/1985</td>\n",
       "      <td>35</td>\n",
       "      <td>PASSAGEM DAS PEDRAS</td>\n",
       "      <td>...</td>\n",
       "      <td>0.0</td>\n",
       "      <td>0.0</td>\n",
       "      <td>0.0</td>\n",
       "      <td>0.0</td>\n",
       "      <td>0.0</td>\n",
       "      <td>0.0</td>\n",
       "      <td>0.0</td>\n",
       "      <td>TESTE RAPIDO - ANTICORPO</td>\n",
       "      <td>Confirmado Laboratorial</td>\n",
       "      <td>Cura</td>\n",
       "    </tr>\n",
       "    <tr>\n",
       "      <th>2</th>\n",
       "      <td>3</td>\n",
       "      <td>2.220004e+11</td>\n",
       "      <td>4/25/2020</td>\n",
       "      <td>4/15/2020</td>\n",
       "      <td>1</td>\n",
       "      <td>Parda</td>\n",
       "      <td>Feminino</td>\n",
       "      <td>11/19/1988</td>\n",
       "      <td>31</td>\n",
       "      <td>PASSAGEM DAS PEDRAS</td>\n",
       "      <td>...</td>\n",
       "      <td>0.0</td>\n",
       "      <td>0.0</td>\n",
       "      <td>0.0</td>\n",
       "      <td>0.0</td>\n",
       "      <td>0.0</td>\n",
       "      <td>0.0</td>\n",
       "      <td>0.0</td>\n",
       "      <td>TESTE RAPIDO - ANTICORPO</td>\n",
       "      <td>Confirmado Laboratorial</td>\n",
       "      <td>Cura</td>\n",
       "    </tr>\n",
       "    <tr>\n",
       "      <th>3</th>\n",
       "      <td>4</td>\n",
       "      <td>2.220004e+11</td>\n",
       "      <td>4/26/2020</td>\n",
       "      <td>4/10/2020</td>\n",
       "      <td>1</td>\n",
       "      <td>Parda</td>\n",
       "      <td>Feminino</td>\n",
       "      <td>9/9/1988</td>\n",
       "      <td>31</td>\n",
       "      <td>PEDRINHAS</td>\n",
       "      <td>...</td>\n",
       "      <td>0.0</td>\n",
       "      <td>0.0</td>\n",
       "      <td>0.0</td>\n",
       "      <td>0.0</td>\n",
       "      <td>0.0</td>\n",
       "      <td>0.0</td>\n",
       "      <td>0.0</td>\n",
       "      <td>TESTE RAPIDO - ANTICORPO</td>\n",
       "      <td>Confirmado Laboratorial</td>\n",
       "      <td>Cura</td>\n",
       "    </tr>\n",
       "    <tr>\n",
       "      <th>4</th>\n",
       "      <td>5</td>\n",
       "      <td>2.220005e+11</td>\n",
       "      <td>4/27/2020</td>\n",
       "      <td>4/27/2020</td>\n",
       "      <td>0</td>\n",
       "      <td>Amarela</td>\n",
       "      <td>Masculino</td>\n",
       "      <td>2/11/1967</td>\n",
       "      <td>53</td>\n",
       "      <td>CENTRO</td>\n",
       "      <td>...</td>\n",
       "      <td>0.0</td>\n",
       "      <td>0.0</td>\n",
       "      <td>0.0</td>\n",
       "      <td>0.0</td>\n",
       "      <td>0.0</td>\n",
       "      <td>0.0</td>\n",
       "      <td>0.0</td>\n",
       "      <td>TESTE RAPIDO - ANTICORPO</td>\n",
       "      <td>Confirmado Laboratorial</td>\n",
       "      <td>Cura</td>\n",
       "    </tr>\n",
       "  </tbody>\n",
       "</table>\n",
       "<p>5 rows × 31 columns</p>\n",
       "</div>"
      ],
      "text/plain": [
       "   Id  Numero_da_Notificacao Data_da_Notificacao Data_do_inicio_dos_sintomas  \\\n",
       "0   1           2.220004e+11           4/25/2020                   4/18/2020   \n",
       "1   2           2.220004e+11           4/25/2020                   3/23/2020   \n",
       "2   3           2.220004e+11           4/25/2020                   4/15/2020   \n",
       "3   4           2.220004e+11           4/26/2020                   4/10/2020   \n",
       "4   5           2.220005e+11           4/27/2020                   4/27/2020   \n",
       "\n",
       "   Profissional_de_Seguranca Raca_Cor       Sexo Data_de_Nascimento  Idade  \\\n",
       "0                          1   Branca   Feminino           8/7/1986     33   \n",
       "1                          0    Parda  Masculino          4/22/1985     35   \n",
       "2                          1    Parda   Feminino         11/19/1988     31   \n",
       "3                          1    Parda   Feminino           9/9/1988     31   \n",
       "4                          0  Amarela  Masculino          2/11/1967     53   \n",
       "\n",
       "                Bairro  ...  Condições_Doenças_cardiacas_cronicas  \\\n",
       "0                MALVA  ...                                   0.0   \n",
       "1  PASSAGEM DAS PEDRAS  ...                                   0.0   \n",
       "2  PASSAGEM DAS PEDRAS  ...                                   0.0   \n",
       "3            PEDRINHAS  ...                                   0.0   \n",
       "4               CENTRO  ...                                   0.0   \n",
       "\n",
       "  Condições_Diabetes  Condições_Doencas_renais_cronicas_  \\\n",
       "0                0.0                                 0.0   \n",
       "1                0.0                                 0.0   \n",
       "2                0.0                                 0.0   \n",
       "3                0.0                                 0.0   \n",
       "4                0.0                                 0.0   \n",
       "\n",
       "   Condições_Imunossupressao Condições_Gestante  \\\n",
       "0                        0.0                0.0   \n",
       "1                        0.0                0.0   \n",
       "2                        0.0                0.0   \n",
       "3                        0.0                0.0   \n",
       "4                        0.0                0.0   \n",
       "\n",
       "  Condições_Portador_de_doenças_cromossómicas Condições_Obesidade  \\\n",
       "0                                         0.0                 0.0   \n",
       "1                                         0.0                 0.0   \n",
       "2                                         0.0                 0.0   \n",
       "3                                         0.0                 0.0   \n",
       "4                                         0.0                 0.0   \n",
       "\n",
       "               Tipo_de_Teste      Classificacao_Final  Evolucao_do_Caso  \n",
       "0  TESTE RAPIDO - ANTICORPO  Confirmado Laboratorial              Cura  \n",
       "1  TESTE RAPIDO - ANTICORPO  Confirmado Laboratorial              Cura  \n",
       "2  TESTE RAPIDO - ANTICORPO  Confirmado Laboratorial              Cura  \n",
       "3  TESTE RAPIDO - ANTICORPO  Confirmado Laboratorial              Cura  \n",
       "4  TESTE RAPIDO - ANTICORPO  Confirmado Laboratorial              Cura  \n",
       "\n",
       "[5 rows x 31 columns]"
      ]
     },
     "execution_count": 12,
     "metadata": {},
     "output_type": "execute_result"
    }
   ],
   "source": [
    "df_rename.head(5)"
   ]
  },
  {
   "cell_type": "code",
   "execution_count": 13,
   "metadata": {},
   "outputs": [
    {
     "data": {
      "text/plain": [
       "Cura     4257\n",
       "Obito      91\n",
       "Name: Evolucao_do_Caso, dtype: int64"
      ]
     },
     "execution_count": 13,
     "metadata": {},
     "output_type": "execute_result"
    }
   ],
   "source": [
    "df_rename[\"Evolucao_do_Caso\"].value_counts()"
   ]
  },
  {
   "cell_type": "code",
   "execution_count": null,
   "metadata": {},
   "outputs": [],
   "source": []
  },
  {
   "cell_type": "markdown",
   "metadata": {},
   "source": [
    "## : A seguir gere os graficos ou imagens que impliquem na resposta de cada afirmação/pergunta citada abaixo.\n",
    "\n",
    "Para todas as analises abaixo descreva a resposta de acordo com sua interpretação. Fique a vontade para gerar novas informações. Pense que essas informações podem auxiliar a prefeitura de picos na melhor tomada de decisão neste contexto.\n",
    "\n",
    "Para quem quiser melhor gerar graficos sugiro assistir a palestra sobre visualização de dados (Link no material semana 2). \n",
    "Link dos exemplos de figuras com matplotlib: https://matplotlib.org/stable/gallery/index.html\n"
   ]
  },
  {
   "cell_type": "markdown",
   "metadata": {},
   "source": [
    "### Distribuição de Idade"
   ]
  },
  {
   "cell_type": "code",
   "execution_count": 14,
   "metadata": {},
   "outputs": [],
   "source": [
    "x= df_rename.Idade.value_counts()"
   ]
  },
  {
   "cell_type": "code",
   "execution_count": 15,
   "metadata": {},
   "outputs": [
    {
     "data": {
      "text/plain": [
       "0       7\n",
       "1       7\n",
       "2      11\n",
       "3       6\n",
       "4       4\n",
       "       ..\n",
       "94      1\n",
       "99      1\n",
       "100     1\n",
       "101     1\n",
       "104     1\n",
       "Name: Idade, Length: 99, dtype: int64"
      ]
     },
     "execution_count": 15,
     "metadata": {},
     "output_type": "execute_result"
    }
   ],
   "source": [
    "x.sort_index()"
   ]
  },
  {
   "cell_type": "code",
   "execution_count": 16,
   "metadata": {},
   "outputs": [
    {
     "data": {
      "image/png": "[encoded data removed]",
      "text/plain": [
       "<Figure size 432x288 with 1 Axes>"
      ]
     },
     "metadata": {
      "needs_background": "light"
     },
     "output_type": "display_data"
    }
   ],
   "source": [
    "# Qual a distribuição de idade dos participantes da pesquisa? (Histograma)\n",
    "df_rename.Idade.hist(bins=104)\n",
    "plt.xlabel(\"Idade\")\n",
    "plt.ylabel(\"Número de Pessoas\")\n",
    "plt.title(\"Distribuição de Idade\")\n",
    "plt.show()\n"
   ]
  },
  {
   "cell_type": "markdown",
   "metadata": {},
   "source": [
    "### Distribuição de Sexo"
   ]
  },
  {
   "cell_type": "code",
   "execution_count": 17,
   "metadata": {},
   "outputs": [
    {
     "data": {
      "image/png": "[encoded data removed]",
      "text/plain": [
       "<Figure size 432x288 with 1 Axes>"
      ]
     },
     "metadata": {
      "needs_background": "light"
     },
     "output_type": "display_data"
    }
   ],
   "source": [
    "# Qual é a distribuição de sexo dos participantes da pesquisa?\n",
    "df_sex = df_rename.Sexo.value_counts().index\n",
    "df_sex_qtd = df_rename.Sexo.value_counts()\n",
    "\n",
    "\n",
    "plt.bar(df_sex, df_sex_qtd)\n",
    "plt.xlabel(\"\\nSexo\\n\")\n",
    "plt.ylabel(\"Número de Pessoas\\n\")\n",
    "plt.title(\"\\nDistribuição de Sexo\\n\")\n",
    "plt.show()"
   ]
  },
  {
   "cell_type": "markdown",
   "metadata": {},
   "source": [
    "### Relação de Idade (por Faixa Etaria) e Casos Assintomatico"
   ]
  },
  {
   "cell_type": "code",
   "execution_count": 25,
   "metadata": {},
   "outputs": [
    {
     "data": {
      "text/plain": [
       "<matplotlib.legend.Legend at 0x7f19f3a58670>"
      ]
     },
     "execution_count": 25,
     "metadata": {},
     "output_type": "execute_result"
    },
    {
     "data": {
      "image/png": "[encoded data removed]",
      "text/plain": [
       "<Figure size 432x288 with 1 Axes>"
      ]
     },
     "metadata": {
      "needs_background": "light"
     },
     "output_type": "display_data"
    }
   ],
   "source": [
    "\n",
    "# Qual a faixa etaria com maior indice de pessoas assintomaticas?\n",
    "import colorsys\n",
    "\n",
    "\n",
    "df_idades = df_rename.copy()\n",
    "bins = [0, 20, 30, 40, 50, 60, 80, 90, 100]\n",
    "\n",
    "df_idades[\"Idade\"] = pd.cut(df_idades[\"Idade\"],\n",
    "                           bins, labels=[\"< 20\", \"20-30\", \"30-40\", \"40-50\", \"50-60\", \"60-70\", \"80-90\", \"90 >\"])\n",
    "\n",
    "\n",
    "df_casos = pd.crosstab(df_idades.Idade, df_idades.Assintomatico).apply(lambda r: r/r.sum(), axis=1)\n",
    "\n",
    "#quantidade\n",
    "num = len(df_idades.Idade.value_counts().index)\n",
    "\n",
    "# Criando a lista de cores\n",
    "listaHSV = [(x*1.0/num, 0.5, 0.5) for x in range(num)]\n",
    "listaRGB = list(map(lambda x: colorsys.hsv_to_rgb(*x), listaHSV))\n",
    "\n",
    "# Gráfico de Barras (Stacked)\n",
    "ax1 = df_casos.plot(kind = \"bar\", stacked = True, color = listaRGB, title = \"Relação de Idade e Casos Assintomáticos\")\n",
    "lines, labels = ax1.get_legend_handles_labels()\n",
    "ax1.legend(lines, labels, bbox_to_anchor = (1.51, 1))"
   ]
  },
  {
   "cell_type": "markdown",
   "metadata": {},
   "source": [
    "## R- Vemos então que o maior indice fica entre entre menores de 20 anos\n"
   ]
  },
  {
   "cell_type": "markdown",
   "metadata": {},
   "source": [
    "### Relação da evolução de casos por faixa etaria de idade"
   ]
  },
  {
   "cell_type": "code",
   "execution_count": 19,
   "metadata": {},
   "outputs": [
    {
     "data": {
      "text/plain": [
       "<matplotlib.legend.Legend at 0x7f19f6c3eb50>"
      ]
     },
     "execution_count": 19,
     "metadata": {},
     "output_type": "execute_result"
    },
    {
     "data": {
      "image/png": "[encoded data removed]",
      "text/plain": [
       "<Figure size 432x288 with 1 Axes>"
      ]
     },
     "metadata": {
      "needs_background": "light"
     },
     "output_type": "display_data"
    }
   ],
   "source": [
    "# Qual a relação entre a Idade e evolução do caso?\n",
    "df_evolucao = df_rename.copy()\n",
    "bins = [0, 20, 30, 40, 50, 60, 80, 90, 100]\n",
    "\n",
    "df_evolucao[\"Idade\"] = pd.cut(df_evolucao[\"Idade\"],\n",
    "                           bins, labels=[\"< 20\", \"20-30\", \"30-40\", \"40-50\", \"50-60\", \"60-70\", \"80-90\", \"90 >\"])\n",
    "\n",
    "\n",
    "df_relacao = pd.crosstab(df_evolucao.Idade, df_evolucao.Evolucao_do_Caso).apply(lambda r: r/r.sum(), axis=1)\n",
    "\n",
    "#quantidade\n",
    "num = len(df_evolucao.Idade.value_counts().index)\n",
    "\n",
    "# Criando a lista de cores\n",
    "listaHSV = [(x*1.0/num, 0.5, 0.5) for x in range(num)]\n",
    "listaRGB = list(map(lambda x: colorsys.hsv_to_rgb(*x), listaHSV))\n",
    "\n",
    "# Gráfico de Barras (Stacked)\n",
    "ax1 = df_relacao.plot(kind = \"bar\", stacked = True, color = listaRGB, title = \"Relação de Idade e Evolução dos Casos\")\n",
    "lines, labels = ax1.get_legend_handles_labels()\n",
    "ax1.legend(lines, labels, bbox_to_anchor = (1.51, 1))\n"
   ]
  },
  {
   "cell_type": "markdown",
   "metadata": {},
   "source": [
    "### Distribuição racial em casos de covid"
   ]
  },
  {
   "cell_type": "code",
   "execution_count": null,
   "metadata": {},
   "outputs": [],
   "source": [
    "# Demonstrar o distribuição racial em casos de covid!"
   ]
  },
  {
   "cell_type": "code",
   "execution_count": 24,
   "metadata": {},
   "outputs": [
    {
     "data": {
      "text/plain": [
       "Parda       2175\n",
       "Branca      1214\n",
       "Amarela      661\n",
       "Preta        159\n",
       "Ignorado     136\n",
       "Indigena       3\n",
       "Name: Raca_Cor, dtype: int64"
      ]
     },
     "execution_count": 24,
     "metadata": {},
     "output_type": "execute_result"
    }
   ],
   "source": [
    "df_rename[\"Raca_Cor\"].value_counts()"
   ]
  },
  {
   "cell_type": "code",
   "execution_count": 21,
   "metadata": {},
   "outputs": [],
   "source": [
    "df_rename[\"Raca_Cor\"].fillna(\"Ignorado\", inplace=True)"
   ]
  },
  {
   "cell_type": "code",
   "execution_count": 22,
   "metadata": {},
   "outputs": [
    {
     "data": {
      "text/plain": [
       "0"
      ]
     },
     "execution_count": 22,
     "metadata": {},
     "output_type": "execute_result"
    }
   ],
   "source": [
    "df_rename[\"Raca_Cor\"].isnull().sum()"
   ]
  },
  {
   "cell_type": "code",
   "execution_count": 23,
   "metadata": {},
   "outputs": [
    {
     "data": {
      "image/png": "[encoded data removed]",
      "text/plain": [
       "<Figure size 432x288 with 1 Axes>"
      ]
     },
     "metadata": {
      "needs_background": "light"
     },
     "output_type": "display_data"
    }
   ],
   "source": [
    "df_raca = df_rename.Raca_Cor.value_counts().index\n",
    "\n",
    "df_raca_qtd = df_rename.Raca_Cor.value_counts()\n",
    "\n",
    "\n",
    "plt.bar(df_raca, df_raca_qtd)\n",
    "plt.xlabel(\"\\nRaça\\n\")\n",
    "plt.ylabel(\"Número de Pessoas\\n\")\n",
    "plt.title(\"\\nDistribuição Racial\\n\")\n",
    "plt.show()"
   ]
  },
  {
   "cell_type": "code",
   "execution_count": 50,
   "metadata": {},
   "outputs": [
    {
     "data": {
      "text/plain": [
       "91"
      ]
     },
     "execution_count": 50,
     "metadata": {},
     "output_type": "execute_result"
    }
   ],
   "source": [
    "# Demonstrar o distribuição racial em casos com evolução ao Obito!\n",
    "evolucao = df_rename.Evolucao_do_Caso.value_counts()[1]\n",
    "evolucao"
   ]
  },
  {
   "cell_type": "code",
   "execution_count": 52,
   "metadata": {},
   "outputs": [
    {
     "data": {
      "text/plain": [
       "Index(['Parda', 'Branca', 'Amarela', 'Preta', 'Ignorado', 'Indigena'], dtype='object')"
      ]
     },
     "execution_count": 52,
     "metadata": {},
     "output_type": "execute_result"
    }
   ],
   "source": [
    "raca = df_rename.Raca_Cor.value_counts().index\n",
    "raca"
   ]
  },
  {
   "cell_type": "code",
   "execution_count": null,
   "metadata": {},
   "outputs": [],
   "source": []
  },
  {
   "cell_type": "markdown",
   "metadata": {},
   "source": [
    "### Matriz de Correlação"
   ]
  },
  {
   "cell_type": "code",
   "execution_count": null,
   "metadata": {},
   "outputs": [],
   "source": [
    "# Identificando a correlação entre as variáveis"
   ]
  }
 ],
 "metadata": {
  "kernelspec": {
   "display_name": "Python 3",
   "language": "python",
   "name": "python3"
  },
  "language_info": {
   "codemirror_mode": {
    "name": "ipython",
    "version": 3
   },
   "file_extension": ".py",
   "mimetype": "text/x-python",
   "name": "python",
   "nbconvert_exporter": "python",
   "pygments_lexer": "ipython3",
   "version": "3.8.8"
  }
 },
 "nbformat": 4,
 "nbformat_minor": 4
}
