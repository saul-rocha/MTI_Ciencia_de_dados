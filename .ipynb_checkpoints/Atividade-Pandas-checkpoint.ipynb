{
 "cells": [
  {
   "cell_type": "markdown",
   "metadata": {
    "id": "vvplGyW2N3rX"
   },
   "source": [
    "# Lista de Exercícios\n",
    "\n",
    "A lista de exercícios tem por objetivo colocar a mão na massa e relembrar os conceitos que foram passados nas aulas anteriores.\n",
    "\n",
    "<center><img src=\"https://images.unsplash.com/photo-1542903660-eedba2cda473?ixid=MnwxMjA3fDB8MHxwaG90by1wYWdlfHx8fGVufDB8fHx8&ixlib=rb-1.2.1&auto=format&fit=crop&w=1050&q=80\" height=\"400px\"></center>"
   ]
  },
  {
   "cell_type": "markdown",
   "metadata": {
    "id": "9GQoXiddIpr9"
   },
   "source": [
    "## Exercício 1\n",
    "\n",
    "* Importar o pacote Pandas\n",
    "* importar os dados de ocorrências da aviação civil neste link\n",
    "* Ver qual o tamanho (linhas x colunas) do *DataFrame*\n",
    "* Verificar as 5 primeiras "
   ]
  },
  {
   "cell_type": "markdown",
   "metadata": {
    "id": "hdRXuNktKw9p"
   },
   "source": [
    "**Importe o Pandas e importe os dados de ocorrências da aviação civil que se encontram em `csv` [neste link](https://raw.githubusercontent.com/carlosfab/dsnp2/master/datasets/ocorrencias_aviacao.csv).**"
   ]
  },
  {
   "cell_type": "code",
   "execution_count": 1,
   "metadata": {
    "id": "8TpD5o8MLMaV"
   },
   "outputs": [],
   "source": [
    "import numpy as np\n",
    "import pandas as pd"
   ]
  },
  {
   "cell_type": "code",
   "execution_count": 2,
   "metadata": {},
   "outputs": [],
   "source": [
    "df = pd.read_csv(\"https://raw.githubusercontent.com/carlosfab/dsnp2/master/datasets/ocorrencias_aviacao.csv\")"
   ]
  },
  {
   "cell_type": "markdown",
   "metadata": {
    "id": "Tf8ScLP9LRjq"
   },
   "source": [
    "**Veja qual o tamanho (linhas e colunas) do conjunto de dados importado.**"
   ]
  },
  {
   "cell_type": "code",
   "execution_count": 3,
   "metadata": {
    "id": "vGsqOw52LnKZ"
   },
   "outputs": [
    {
     "data": {
      "text/plain": [
       "(5208, 22)"
      ]
     },
     "execution_count": 3,
     "metadata": {},
     "output_type": "execute_result"
    }
   ],
   "source": [
    "df.shape"
   ]
  },
  {
   "cell_type": "markdown",
   "metadata": {
    "id": "OvvxJlZXL-BH"
   },
   "source": [
    "**Identifique o tipo de cada coluna (inteiro, float, object).**"
   ]
  },
  {
   "cell_type": "code",
   "execution_count": 4,
   "metadata": {
    "id": "MjAmdNplMOMJ"
   },
   "outputs": [
    {
     "data": {
      "text/plain": [
       "codigo_ocorrencia                   int64\n",
       "ocorrencia_classificacao           object\n",
       "ocorrencia_tipo                    object\n",
       "ocorrencia_tipo_categoria          object\n",
       "ocorrencia_tipo_icao               object\n",
       "ocorrencia_latitude               float64\n",
       "ocorrencia_longitude              float64\n",
       "ocorrencia_cidade                  object\n",
       "ocorrencia_uf                      object\n",
       "ocorrencia_pais                    object\n",
       "ocorrencia_aerodromo               object\n",
       "ocorrencia_dia                     object\n",
       "ocorrencia_horario                 object\n",
       "investigacao_aeronave_liberada     object\n",
       "investigacao_status                object\n",
       "divulgacao_relatorio_numero        object\n",
       "divulgacao_relatorio_publicado     object\n",
       "divulgacao_dia_publicacao          object\n",
       "total_recomendacoes                 int64\n",
       "total_aeronaves_envolvidas          int64\n",
       "ocorrencia_saida_pista             object\n",
       "ocorrencia_dia_extracao            object\n",
       "dtype: object"
      ]
     },
     "execution_count": 4,
     "metadata": {},
     "output_type": "execute_result"
    }
   ],
   "source": [
    "df.dtypes"
   ]
  },
  {
   "cell_type": "markdown",
   "metadata": {
    "id": "ew5bo-eZMTCZ"
   },
   "source": [
    "**Veja as 3 primeiras entradas do conjunto de dados.**"
   ]
  },
  {
   "cell_type": "code",
   "execution_count": 5,
   "metadata": {
    "id": "e1xx_cXFMaM2"
   },
   "outputs": [
    {
     "data": {
      "text/html": [
       "<div>\n",
       "<style scoped>\n",
       "    .dataframe tbody tr th:only-of-type {\n",
       "        vertical-align: middle;\n",
       "    }\n",
       "\n",
       "    .dataframe tbody tr th {\n",
       "        vertical-align: top;\n",
       "    }\n",
       "\n",
       "    .dataframe thead th {\n",
       "        text-align: right;\n",
       "    }\n",
       "</style>\n",
       "<table border=\"1\" class=\"dataframe\">\n",
       "  <thead>\n",
       "    <tr style=\"text-align: right;\">\n",
       "      <th></th>\n",
       "      <th>codigo_ocorrencia</th>\n",
       "      <th>ocorrencia_classificacao</th>\n",
       "      <th>ocorrencia_tipo</th>\n",
       "      <th>ocorrencia_tipo_categoria</th>\n",
       "      <th>ocorrencia_tipo_icao</th>\n",
       "      <th>ocorrencia_latitude</th>\n",
       "      <th>ocorrencia_longitude</th>\n",
       "      <th>ocorrencia_cidade</th>\n",
       "      <th>ocorrencia_uf</th>\n",
       "      <th>ocorrencia_pais</th>\n",
       "      <th>...</th>\n",
       "      <th>ocorrencia_horario</th>\n",
       "      <th>investigacao_aeronave_liberada</th>\n",
       "      <th>investigacao_status</th>\n",
       "      <th>divulgacao_relatorio_numero</th>\n",
       "      <th>divulgacao_relatorio_publicado</th>\n",
       "      <th>divulgacao_dia_publicacao</th>\n",
       "      <th>total_recomendacoes</th>\n",
       "      <th>total_aeronaves_envolvidas</th>\n",
       "      <th>ocorrencia_saida_pista</th>\n",
       "      <th>ocorrencia_dia_extracao</th>\n",
       "    </tr>\n",
       "  </thead>\n",
       "  <tbody>\n",
       "    <tr>\n",
       "      <th>0</th>\n",
       "      <td>201305055424986</td>\n",
       "      <td>ACIDENTE</td>\n",
       "      <td>FALHA DO MOTOR EM VOO</td>\n",
       "      <td>FALHA OU MAU FUNCIONAMENTO DO MOTOR</td>\n",
       "      <td>SCF-PP</td>\n",
       "      <td>-9.9085</td>\n",
       "      <td>-63.0333</td>\n",
       "      <td>ARIQUEMES</td>\n",
       "      <td>RO</td>\n",
       "      <td>BRASIL</td>\n",
       "      <td>...</td>\n",
       "      <td>11:00:00</td>\n",
       "      <td>NaN</td>\n",
       "      <td>FINALIZADA</td>\n",
       "      <td>***</td>\n",
       "      <td>NÃO</td>\n",
       "      <td>NaN</td>\n",
       "      <td>0</td>\n",
       "      <td>1</td>\n",
       "      <td>NÃO</td>\n",
       "      <td>2018-08-28</td>\n",
       "    </tr>\n",
       "    <tr>\n",
       "      <th>1</th>\n",
       "      <td>201605160250139</td>\n",
       "      <td>INCIDENTE GRAVE</td>\n",
       "      <td>COLISÃO COM OBSTÁCULO DURANTE A DECOLAGEM E POUSO</td>\n",
       "      <td>COLISÃO COM OBSTÁCULO DURANTE A DECOLAGEM E POUSO</td>\n",
       "      <td>CTOL</td>\n",
       "      <td>-11.2644</td>\n",
       "      <td>-61.2589</td>\n",
       "      <td>CACOAL</td>\n",
       "      <td>RO</td>\n",
       "      <td>BRASIL</td>\n",
       "      <td>...</td>\n",
       "      <td>19:19:00</td>\n",
       "      <td>SIM</td>\n",
       "      <td>ATIVA</td>\n",
       "      <td>IG-084/CENIPA/2016</td>\n",
       "      <td>NÃO</td>\n",
       "      <td>NaN</td>\n",
       "      <td>0</td>\n",
       "      <td>1</td>\n",
       "      <td>NÃO</td>\n",
       "      <td>2018-08-28</td>\n",
       "    </tr>\n",
       "    <tr>\n",
       "      <th>2</th>\n",
       "      <td>201805021421302</td>\n",
       "      <td>INCIDENTE</td>\n",
       "      <td>AERÓDROMO</td>\n",
       "      <td>AERÓDROMO</td>\n",
       "      <td>ADRM</td>\n",
       "      <td>-11.4956</td>\n",
       "      <td>-61.4508</td>\n",
       "      <td>CACOAL</td>\n",
       "      <td>RO</td>\n",
       "      <td>BRASIL</td>\n",
       "      <td>...</td>\n",
       "      <td>22:40:00</td>\n",
       "      <td>SIM</td>\n",
       "      <td>FINALIZADA</td>\n",
       "      <td>***</td>\n",
       "      <td>NÃO</td>\n",
       "      <td>NaN</td>\n",
       "      <td>0</td>\n",
       "      <td>1</td>\n",
       "      <td>NÃO</td>\n",
       "      <td>2018-08-28</td>\n",
       "    </tr>\n",
       "  </tbody>\n",
       "</table>\n",
       "<p>3 rows × 22 columns</p>\n",
       "</div>"
      ],
      "text/plain": [
       "   codigo_ocorrencia ocorrencia_classificacao  \\\n",
       "0    201305055424986                 ACIDENTE   \n",
       "1    201605160250139          INCIDENTE GRAVE   \n",
       "2    201805021421302                INCIDENTE   \n",
       "\n",
       "                                     ocorrencia_tipo  \\\n",
       "0                              FALHA DO MOTOR EM VOO   \n",
       "1  COLISÃO COM OBSTÁCULO DURANTE A DECOLAGEM E POUSO   \n",
       "2                                          AERÓDROMO   \n",
       "\n",
       "                           ocorrencia_tipo_categoria ocorrencia_tipo_icao  \\\n",
       "0                FALHA OU MAU FUNCIONAMENTO DO MOTOR               SCF-PP   \n",
       "1  COLISÃO COM OBSTÁCULO DURANTE A DECOLAGEM E POUSO                 CTOL   \n",
       "2                                          AERÓDROMO                 ADRM   \n",
       "\n",
       "   ocorrencia_latitude  ocorrencia_longitude ocorrencia_cidade ocorrencia_uf  \\\n",
       "0              -9.9085              -63.0333         ARIQUEMES            RO   \n",
       "1             -11.2644              -61.2589            CACOAL            RO   \n",
       "2             -11.4956              -61.4508            CACOAL            RO   \n",
       "\n",
       "  ocorrencia_pais  ... ocorrencia_horario investigacao_aeronave_liberada  \\\n",
       "0          BRASIL  ...           11:00:00                            NaN   \n",
       "1          BRASIL  ...           19:19:00                            SIM   \n",
       "2          BRASIL  ...           22:40:00                            SIM   \n",
       "\n",
       "  investigacao_status divulgacao_relatorio_numero  \\\n",
       "0          FINALIZADA                         ***   \n",
       "1               ATIVA          IG-084/CENIPA/2016   \n",
       "2          FINALIZADA                         ***   \n",
       "\n",
       "  divulgacao_relatorio_publicado divulgacao_dia_publicacao  \\\n",
       "0                            NÃO                       NaN   \n",
       "1                            NÃO                       NaN   \n",
       "2                            NÃO                       NaN   \n",
       "\n",
       "  total_recomendacoes total_aeronaves_envolvidas  ocorrencia_saida_pista  \\\n",
       "0                   0                          1                     NÃO   \n",
       "1                   0                          1                     NÃO   \n",
       "2                   0                          1                     NÃO   \n",
       "\n",
       "   ocorrencia_dia_extracao  \n",
       "0               2018-08-28  \n",
       "1               2018-08-28  \n",
       "2               2018-08-28  \n",
       "\n",
       "[3 rows x 22 columns]"
      ]
     },
     "execution_count": 5,
     "metadata": {},
     "output_type": "execute_result"
    }
   ],
   "source": [
    "df.head(3)"
   ]
  },
  {
   "cell_type": "markdown",
   "metadata": {
    "id": "p_2rj-KqMbtA"
   },
   "source": [
    "**Veja quantos valores únicos existem para a coluna `ocorrencia_classificacao`**"
   ]
  },
  {
   "cell_type": "code",
   "execution_count": 6,
   "metadata": {
    "id": "DVtxiIREMnnV"
   },
   "outputs": [],
   "source": [
    "# retira os valores faltantes (NaN)\n",
    "df_unicos = df.ocorrencia_classificacao.dropna()"
   ]
  },
  {
   "cell_type": "code",
   "execution_count": 7,
   "metadata": {},
   "outputs": [],
   "source": [
    "#retira os repetidos\n",
    "df_unicos = df_unicos.drop_duplicates()"
   ]
  },
  {
   "cell_type": "code",
   "execution_count": 8,
   "metadata": {},
   "outputs": [
    {
     "data": {
      "text/plain": [
       "3"
      ]
     },
     "execution_count": 8,
     "metadata": {},
     "output_type": "execute_result"
    }
   ],
   "source": [
    "#retorna a quantidade dos valores unicos\n",
    "df_unicos.count()"
   ]
  },
  {
   "cell_type": "markdown",
   "metadata": {
    "id": "ZoUq8qxPMqPj"
   },
   "source": [
    "**Descubra qual Estado possui o maior número de ocorrências com aeronaves civis.**"
   ]
  },
  {
   "cell_type": "code",
   "execution_count": 9,
   "metadata": {},
   "outputs": [
    {
     "data": {
      "text/plain": [
       "SP     1207\n",
       "RJ      498\n",
       "MG      476\n",
       "PR      437\n",
       "RS      350\n",
       "GO      268\n",
       "PA      255\n",
       "MT      244\n",
       "AM      219\n",
       "BA      208\n",
       "SC      160\n",
       "DF      151\n",
       "MS      132\n",
       "PE       88\n",
       "CE       75\n",
       "ES       66\n",
       "MA       63\n",
       "TO       54\n",
       "AC       53\n",
       "RR       50\n",
       "PI       39\n",
       "RO       30\n",
       "PB       20\n",
       "SE       18\n",
       "AL       16\n",
       "RN       15\n",
       "AP       13\n",
       "***       3\n",
       "Name: ocorrencia_uf, dtype: int64"
      ]
     },
     "execution_count": 9,
     "metadata": {},
     "output_type": "execute_result"
    }
   ],
   "source": [
    "#value.counts retorna a quantidade de linhas unicss na coluna selecionada, ordenada e desconsiderando valores ausentes\n",
    "estados = df[\"ocorrencia_uf\"].value_counts()\n",
    "estados"
   ]
  },
  {
   "cell_type": "code",
   "execution_count": 10,
   "metadata": {},
   "outputs": [],
   "source": [
    "#where condicona os valores a serem selecionados e retorna o maior utilizando a função max()\n",
    "estado_max =  estados.where(estados.values == estados.max()).dropna()"
   ]
  },
  {
   "cell_type": "code",
   "execution_count": 11,
   "metadata": {},
   "outputs": [
    {
     "data": {
      "text/plain": [
       "SP    1207.0\n",
       "Name: ocorrencia_uf, dtype: float64"
      ]
     },
     "execution_count": 11,
     "metadata": {},
     "output_type": "execute_result"
    }
   ],
   "source": [
    "estado_max"
   ]
  },
  {
   "cell_type": "markdown",
   "metadata": {
    "id": "jaE4lKoMNDNG"
   },
   "source": [
    "**Quantos por cento das ocorrências são do tipo `FALHA DO MOTOR EM VOO`?**"
   ]
  },
  {
   "cell_type": "markdown",
   "metadata": {},
   "source": [
    "**Forma 1**"
   ]
  },
  {
   "cell_type": "code",
   "execution_count": 15,
   "metadata": {
    "id": "MZNDxepbNqFr"
   },
   "outputs": [
    {
     "data": {
      "text/plain": [
       "FALHA DO MOTOR EM VOO                                  682\n",
       "ESTOURO DE PNEU                                        604\n",
       "FALHA OU MAU FUNCIONAMENTO DE SISTEMA / COMPONENTE     574\n",
       "PERDA DE CONTROLE NO SOLO                              492\n",
       "OUTROS                                                 350\n",
       "PERDA DE CONTROLE EM VOO                               345\n",
       "COM TREM DE POUSO                                      325\n",
       "COLISÃO COM OBSTÁCULO DURANTE A DECOLAGEM E POUSO      190\n",
       "TRÁFEGO AÉREO                                          138\n",
       "COLISÃO COM OBSTÁCULOS NO SOLO                         113\n",
       "CAUSADO POR FENÔMENO METEOROLÓGICO EM VOO              108\n",
       "POUSO EM LOCAL NÃO PREVISTO                            102\n",
       "PANE SECA                                              101\n",
       "POUSO SEM TREM                                          90\n",
       "INDETERMINADO                                           76\n",
       "COM PARA-BRISAS / JANELA / PORTA                        71\n",
       "VAZAMENTO DE OUTROS FLUIDOS                             66\n",
       "PERDA DE COMPONENTE EM VOO                              61\n",
       "POUSO LONGO                                             43\n",
       "F.O.D.                                                  40\n",
       "OPERAÇÃO A BAIXA ALTITUDE                               34\n",
       "FALHA DO MOTOR NO SOLO                                  29\n",
       "COLISÃO COM AERONAVE NO SOLO                            28\n",
       "VOO CONTROLADO CONTRA O TERRENO                         25\n",
       "SUPERAQUECIMENTO                                        24\n",
       "FUMAÇA NA CABINE                                        21\n",
       "COLISÃO DE VEÍCULO COM AERONAVE                         20\n",
       "COM HÉLICE                                              18\n",
       "VAZAMENTO DE COMBUSTÍVEL                                17\n",
       "COM ROTOR                                               15\n",
       "DESORIENTAÇÃO ESPACIAL                                  13\n",
       "SOPRO DE REATOR                                         12\n",
       "INCURSÃO EM PISTA                                       10\n",
       "FALHA ESTRUTURAL                                         9\n",
       "COM LANÇAMENTO DE CARGA                                  8\n",
       "CORTE INVOLUNTÁRIO DO MOTOR                              7\n",
       "TURBULÊNCIA                                              4\n",
       "COM PESSOAL EM VOO                                       3\n",
       "OPERAÇÕES NO SOLO                                        2\n",
       "ALARME FALSO DE FOGO OU DE SUPERAQUECIMENTO              1\n",
       "Name: ocorrencia_tipo, dtype: int64"
      ]
     },
     "execution_count": 15,
     "metadata": {},
     "output_type": "execute_result"
    }
   ],
   "source": [
    "qtd_ocorrences = df.ocorrencia_tipo.value_counts().drop_duplicates().dropna()\n",
    "qtd_ocorrences"
   ]
  },
  {
   "cell_type": "code",
   "execution_count": 16,
   "metadata": {},
   "outputs": [
    {
     "data": {
      "text/plain": [
       "4871"
      ]
     },
     "execution_count": 16,
     "metadata": {},
     "output_type": "execute_result"
    }
   ],
   "source": [
    "total = qtd_ocorrences.sum()\n",
    "total"
   ]
  },
  {
   "cell_type": "code",
   "execution_count": 17,
   "metadata": {},
   "outputs": [],
   "source": [
    "#como os valores vem ordenados, já identifico a quantidade de ocorrencias por falhas do motor na primeira posição\n",
    "\n",
    "pct_falhas_motor = (qtd_ocorrences[0] / total)*100"
   ]
  },
  {
   "cell_type": "code",
   "execution_count": 18,
   "metadata": {},
   "outputs": [
    {
     "data": {
      "text/plain": [
       "14.0"
      ]
     },
     "execution_count": 18,
     "metadata": {},
     "output_type": "execute_result"
    }
   ],
   "source": [
    "pct_falhas_motor.round()"
   ]
  },
  {
   "cell_type": "markdown",
   "metadata": {
    "id": "BZCNVc1NOVeb"
   },
   "source": [
    "## Exercício 2\n",
    "\n",
    "Você irá trabalhar agora com os dados da ação BBAS3, do Banco do Brasil na BOVESPA.\n",
    "\n",
    "Na variável `df_bbas3`, foi importado [este arquivo `csv`](https://raw.githubusercontent.com/carlosfab/dsnp2/master/datasets/BBAS3.SA.csv), onde o *index* do *DataFrame* representa os valores da ação para determinado dia. Responda as perguntas abaixo."
   ]
  },
  {
   "cell_type": "code",
   "execution_count": 19,
   "metadata": {
    "id": "4XZI_FjDPFsR"
   },
   "outputs": [],
   "source": [
    "# importar pandas\n",
    "import pandas as pd\n",
    "\n",
    "# importar o csv com dados da BBAS3\n",
    "df_bbas3 = pd.read_csv(\"https://raw.githubusercontent.com/carlosfab/dsnp2/master/datasets/BBAS3.SA.csv\", \n",
    "                       parse_dates=True, index_col=\"Date\")"
   ]
  },
  {
   "cell_type": "markdown",
   "metadata": {
    "id": "j5gGguY3P67Q"
   },
   "source": [
    "**Veja as 5 primeiras entradas da variável `df_bbas3`.**"
   ]
  },
  {
   "cell_type": "code",
   "execution_count": 20,
   "metadata": {
    "id": "MlGjWTeXQEB3"
   },
   "outputs": [
    {
     "data": {
      "text/html": [
       "<div>\n",
       "<style scoped>\n",
       "    .dataframe tbody tr th:only-of-type {\n",
       "        vertical-align: middle;\n",
       "    }\n",
       "\n",
       "    .dataframe tbody tr th {\n",
       "        vertical-align: top;\n",
       "    }\n",
       "\n",
       "    .dataframe thead th {\n",
       "        text-align: right;\n",
       "    }\n",
       "</style>\n",
       "<table border=\"1\" class=\"dataframe\">\n",
       "  <thead>\n",
       "    <tr style=\"text-align: right;\">\n",
       "      <th></th>\n",
       "      <th>Open</th>\n",
       "      <th>High</th>\n",
       "      <th>Low</th>\n",
       "      <th>Close</th>\n",
       "      <th>Adj Close</th>\n",
       "      <th>Volume</th>\n",
       "    </tr>\n",
       "    <tr>\n",
       "      <th>Date</th>\n",
       "      <th></th>\n",
       "      <th></th>\n",
       "      <th></th>\n",
       "      <th></th>\n",
       "      <th></th>\n",
       "      <th></th>\n",
       "    </tr>\n",
       "  </thead>\n",
       "  <tbody>\n",
       "    <tr>\n",
       "      <th>2019-05-06</th>\n",
       "      <td>49.470001</td>\n",
       "      <td>49.669998</td>\n",
       "      <td>49.180000</td>\n",
       "      <td>49.369999</td>\n",
       "      <td>46.886795</td>\n",
       "      <td>6314800.0</td>\n",
       "    </tr>\n",
       "    <tr>\n",
       "      <th>2019-05-07</th>\n",
       "      <td>49.080002</td>\n",
       "      <td>49.680000</td>\n",
       "      <td>48.220001</td>\n",
       "      <td>49.490002</td>\n",
       "      <td>47.000763</td>\n",
       "      <td>10846100.0</td>\n",
       "    </tr>\n",
       "    <tr>\n",
       "      <th>2019-05-08</th>\n",
       "      <td>49.500000</td>\n",
       "      <td>50.840000</td>\n",
       "      <td>49.500000</td>\n",
       "      <td>50.590000</td>\n",
       "      <td>48.045422</td>\n",
       "      <td>14459600.0</td>\n",
       "    </tr>\n",
       "    <tr>\n",
       "      <th>2019-05-09</th>\n",
       "      <td>50.910000</td>\n",
       "      <td>51.259998</td>\n",
       "      <td>50.119999</td>\n",
       "      <td>51.029999</td>\n",
       "      <td>48.463291</td>\n",
       "      <td>15377500.0</td>\n",
       "    </tr>\n",
       "    <tr>\n",
       "      <th>2019-05-10</th>\n",
       "      <td>51.099998</td>\n",
       "      <td>51.189999</td>\n",
       "      <td>49.860001</td>\n",
       "      <td>50.160000</td>\n",
       "      <td>47.637051</td>\n",
       "      <td>8975300.0</td>\n",
       "    </tr>\n",
       "  </tbody>\n",
       "</table>\n",
       "</div>"
      ],
      "text/plain": [
       "                 Open       High        Low      Close  Adj Close      Volume\n",
       "Date                                                                         \n",
       "2019-05-06  49.470001  49.669998  49.180000  49.369999  46.886795   6314800.0\n",
       "2019-05-07  49.080002  49.680000  48.220001  49.490002  47.000763  10846100.0\n",
       "2019-05-08  49.500000  50.840000  49.500000  50.590000  48.045422  14459600.0\n",
       "2019-05-09  50.910000  51.259998  50.119999  51.029999  48.463291  15377500.0\n",
       "2019-05-10  51.099998  51.189999  49.860001  50.160000  47.637051   8975300.0"
      ]
     },
     "execution_count": 20,
     "metadata": {},
     "output_type": "execute_result"
    }
   ],
   "source": [
    "df_bbas3.head(5)"
   ]
  },
  {
   "cell_type": "markdown",
   "metadata": {
    "id": "O3tTLDfTQTGZ"
   },
   "source": [
    "**Quais são os valores da ação para o dia 04 de outubro de 2019?**"
   ]
  },
  {
   "cell_type": "code",
   "execution_count": 21,
   "metadata": {},
   "outputs": [
    {
     "data": {
      "text/html": [
       "<div>\n",
       "<style scoped>\n",
       "    .dataframe tbody tr th:only-of-type {\n",
       "        vertical-align: middle;\n",
       "    }\n",
       "\n",
       "    .dataframe tbody tr th {\n",
       "        vertical-align: top;\n",
       "    }\n",
       "\n",
       "    .dataframe thead th {\n",
       "        text-align: right;\n",
       "    }\n",
       "</style>\n",
       "<table border=\"1\" class=\"dataframe\">\n",
       "  <thead>\n",
       "    <tr style=\"text-align: right;\">\n",
       "      <th></th>\n",
       "      <th>Open</th>\n",
       "      <th>High</th>\n",
       "      <th>Low</th>\n",
       "      <th>Close</th>\n",
       "      <th>Adj Close</th>\n",
       "      <th>Volume</th>\n",
       "    </tr>\n",
       "    <tr>\n",
       "      <th>Date</th>\n",
       "      <th></th>\n",
       "      <th></th>\n",
       "      <th></th>\n",
       "      <th></th>\n",
       "      <th></th>\n",
       "      <th></th>\n",
       "    </tr>\n",
       "  </thead>\n",
       "  <tbody>\n",
       "    <tr>\n",
       "      <th>2019-10-04</th>\n",
       "      <td>45.369999</td>\n",
       "      <td>45.599998</td>\n",
       "      <td>44.619999</td>\n",
       "      <td>45.599998</td>\n",
       "      <td>44.448669</td>\n",
       "      <td>7228200.0</td>\n",
       "    </tr>\n",
       "  </tbody>\n",
       "</table>\n",
       "</div>"
      ],
      "text/plain": [
       "                 Open       High        Low      Close  Adj Close     Volume\n",
       "Date                                                                        \n",
       "2019-10-04  45.369999  45.599998  44.619999  45.599998  44.448669  7228200.0"
      ]
     },
     "execution_count": 21,
     "metadata": {},
     "output_type": "execute_result"
    }
   ],
   "source": [
    "df_bbas3.loc[\"2019-10-04\":\"2019-10-04\"]"
   ]
  },
  {
   "cell_type": "markdown",
   "metadata": {
    "id": "PRZtV761Qr0-"
   },
   "source": [
    "**Qual a média do Volume financeiro movimentado em todo o período?**"
   ]
  },
  {
   "cell_type": "code",
   "execution_count": 25,
   "metadata": {
    "id": "n-vZleQPEGey"
   },
   "outputs": [
    {
     "ename": "AttributeError",
     "evalue": "'function' object has no attribute 'sort_index'",
     "output_type": "error",
     "traceback": [
      "\u001b[0;31m---------------------------------------------------------------------------\u001b[0m",
      "\u001b[0;31mAttributeError\u001b[0m                            Traceback (most recent call last)",
      "\u001b[0;32m<ipython-input-25-274a43b217c8>\u001b[0m in \u001b[0;36m<module>\u001b[0;34m\u001b[0m\n\u001b[0;32m----> 1\u001b[0;31m \u001b[0mdf_bbas3\u001b[0m \u001b[0;34m=\u001b[0m \u001b[0mdf_bbas3\u001b[0m\u001b[0;34m.\u001b[0m\u001b[0msort_index\u001b[0m\u001b[0;34m\u001b[0m\u001b[0;34m\u001b[0m\u001b[0m\n\u001b[0m",
      "\u001b[0;31mAttributeError\u001b[0m: 'function' object has no attribute 'sort_index'"
     ]
    }
   ],
   "source": [
    "df_bbas3 = df_bbas3."
   ]
  },
  {
   "cell_type": "code",
   "execution_count": null,
   "metadata": {},
   "outputs": [],
   "source": [
    "media = np.mean(df_bbas3[\"Volume\"])"
   ]
  },
  {
   "cell_type": "code",
   "execution_count": null,
   "metadata": {},
   "outputs": [],
   "source": []
  }
 ],
 "metadata": {
  "colab": {
   "collapsed_sections": [],
   "name": "DSNP 3.0 - Lista de Exercícios.ipynb",
   "provenance": []
  },
  "kernelspec": {
   "display_name": "Python 3",
   "language": "python",
   "name": "python3"
  },
  "language_info": {
   "codemirror_mode": {
    "name": "ipython",
    "version": 3
   },
   "file_extension": ".py",
   "mimetype": "text/x-python",
   "name": "python",
   "nbconvert_exporter": "python",
   "pygments_lexer": "ipython3",
   "version": "3.8.8"
  }
 },
 "nbformat": 4,
 "nbformat_minor": 1
}
