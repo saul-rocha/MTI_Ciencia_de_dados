{
 "cells": [
  {
   "cell_type": "markdown",
   "metadata": {
    "id": "dy92aaZbC74S"
   },
   "source": [
    "<h1>Conhecendo o Jupyter Notebook</h1>\n",
    "\n",
    "Google Colab é um ambiente Jupyter notebook que roda inteiramente na nuvem. Ou seja, você consegue criar e rodar seus projetos de Data Science sem perder tempo configurando sua máquina local.\n",
    "\n",
    "<center><img src=\"https://miro.medium.com/max/2000/1*gl0OdcvY4lnkSB8WvOghvw.jpeg\" height=\"400px\"></center>"
   ]
  },
  {
   "cell_type": "markdown",
   "metadata": {
    "id": "TU3QmvBTELE4"
   },
   "source": [
    "## Ambiente Interativo\n",
    "\n",
    "Uma das principais vantagens de se usar Jupyter notebooks no lugar de IDE convencionais para criar seus projetos, é porque esta página não é estática. Quando você cria um arquivo aqui, qualquer pessoa vai conseguir rodar seu código e fazer suas próprias alterações.\n",
    "\n",
    "Isto é perfeito! Imagina uma situação onde você fez uma análise para a sua empresa, 6 meses atrás. Determinado dia, o Diretor de vendas pede para você calcular uma informação completamente nova em cima daquela análise.\n",
    "\n",
    "Se você tem apenas o relatório estático (ou mesmo um monte de arquivos .py, sem documentação), as chances são que você não vai ser capaz de entregrar a informação nova em tempo ábil.\n",
    "\n",
    "Agora, se você tem salvo todos os seus notebooks de maneira organizada, preferencialmente na nuvem, você pode executar todas as células novamente e apenas incluir mais essa análise extra.\n",
    "\n",
    "Veja como é fácil trabalhar com céulas interativas. "
   ]
  },
  {
   "cell_type": "code",
   "execution_count": 1,
   "metadata": {
    "colab": {
     "base_uri": "https://localhost:8080/",
     "height": 34
    },
    "id": "4PFMKf-pED5C",
    "outputId": "e37f5c4b-56c8-4a8a-ca47-f97324979e7c"
   },
   "outputs": [
    {
     "name": "stdout",
     "output_type": "stream",
     "text": [
      "6700.0\n"
     ]
    }
   ],
   "source": [
    "# operações matemáticas com Python\n",
    "receita = 14800.90\n",
    "despesa_fixa = 4500\n",
    "despesa_variavel = 3600.90\n",
    "\n",
    "lucro = receita - (despesa_fixa + despesa_variavel)\n",
    "\n",
    "print(lucro)"
   ]
  },
  {
   "cell_type": "markdown",
   "metadata": {
    "id": "bilZiqGDJG3W"
   },
   "source": [
    "A célula acima é nossa primeira contendo código. Todas as anteriores (incluindo este) eram texto puro.\n",
    "\n",
    "Dê dois cliques na célula acima para editar, altere o valor de alguma varíavel (receita, por exemplo) e aperte **SHIFT + ENTER** (ou clique no ícone \"Play\" na esquerda dela. Essa é a vantagem de se documentar um projeto pelo Jupyter notebook, você torna ele replicável."
   ]
  },
  {
   "cell_type": "markdown",
   "metadata": {
    "id": "R_4lDn-sJ_6O"
   },
   "source": [
    "## Atalhos do Jupyter\n",
    "\n",
    "Saber os atalhos do Jupyter vai ajudar você a ganhar tempo. Apesar de você sempre poder recorrer ao menu lá em cima, recomendo você já ir se acostumando com as principais combinações de teclas. Aqui estão algumas delas:\n",
    "\n",
    "* Aperte **Shift + Enter** para executar a célula selecionada;\n",
    "* Aperte **Ctrl/Cmd + M** seguindo por **B** para criar uma célula nóva abaixo;\n",
    "* Aperte **Ctrl/Cmd + M** seguindo por **A** para criar uma célula nóva acima;\n",
    "* Aperte **Ctrl/Cmd + M** seguindo por **M** para definir a célula selecionada como tipo Texto;\n",
    "* Aperte **Ctrl/Cmd + M** seguindo por **Y** para definir a célula selecionada como tipo Código;"
   ]
  },
  {
   "cell_type": "markdown",
   "metadata": {
    "id": "tGzb2hXD3bnP"
   },
   "source": [
    "## Auxílios do Jupyter\n",
    "\n",
    "Usar o **Tab** ajuda muito você a completar automaticamente o código, ou ver a documentação rapidamente. Veja como usar essa tecla para ver o que existe dentro da biblioteca ```pandas```.*italicized text*"
   ]
  },
  {
   "cell_type": "code",
   "execution_count": 1,
   "metadata": {
    "id": "BiPxbPPM4X8s"
   },
   "outputs": [],
   "source": [
    "import pandas as pd"
   ]
  },
  {
   "cell_type": "markdown",
   "metadata": {
    "id": "PxQ9lNeV44Xd"
   },
   "source": [
    "Depois de importar o pacote, digite ```pd.``` e aperte **Tab**. Todas as possibilidades serão exibidas, e você vai poder escolher aquela desejada."
   ]
  },
  {
   "cell_type": "code",
   "execution_count": null,
   "metadata": {
    "id": "BdQOUU6e45g8"
   },
   "outputs": [],
   "source": [
    "pd."
   ]
  },
  {
   "cell_type": "markdown",
   "metadata": {
    "id": "l9v4CZX154Gt"
   },
   "source": [
    "## Gráficos no Colab\n",
    "\n",
    "Gráficos vão fazer parte do seu dia a dia, onde vamos explorar as bibliotecas ```matplotlib``` e ```seaborn```.\n",
    "\n",
    "Você não precisa entender o código abaixo ainda, apenas ver como é possível gerar um facilmente por aqui."
   ]
  },
  {
   "cell_type": "markdown",
   "metadata": {
    "id": "OkDgDbocf6yQ"
   },
   "source": [
    "### Histogramas"
   ]
  },
  {
   "cell_type": "code",
   "execution_count": 2,
   "metadata": {
    "colab": {
     "base_uri": "https://localhost:8080/",
     "height": 269
    },
    "id": "PKjzXnAB6_E6",
    "outputId": "6058c7d8-3443-4990-f185-572548ada0f8"
   },
   "outputs": [
    {
     "data": {
      "image/png": "[encoded data removed]",
      "text/plain": [
       "<Figure size 432x288 with 1 Axes>"
      ]
     },
     "metadata": {
      "needs_background": "light"
     },
     "output_type": "display_data"
    }
   ],
   "source": [
    "# importar matplotlib\n",
    "import matplotlib.pyplot as plt\n",
    "\n",
    "# importar csv e eliminar NaN\n",
    "df = pd.read_csv(\"https://raw.githubusercontent.com/carlosfab/data_science/master/data/train.csv\")\n",
    "df.dropna(axis=0, inplace=True)\n",
    "\n",
    "# plotar histograma\n",
    "plt.hist(df.Age, bins=10)\n",
    "plt.show()"
   ]
  },
  {
   "cell_type": "markdown",
   "metadata": {
    "id": "s9TvYY-z8Nln"
   },
   "source": [
    "### Scatter Plots"
   ]
  },
  {
   "cell_type": "code",
   "execution_count": 5,
   "metadata": {
    "colab": {
     "base_uri": "https://localhost:8080/",
     "height": 269
    },
    "id": "lHjrTOnl8Xzi",
    "outputId": "732ebfce-19c4-44c2-e506-b3e1eb582061"
   },
   "outputs": [
    {
     "data": {
      "image/png": "[encoded data removed]",
      "text/plain": [
       "<Figure size 432x288 with 1 Axes>"
      ]
     },
     "metadata": {
      "needs_background": "light"
     },
     "output_type": "display_data"
    },
    {
     "data": {
      "text/plain": [
       "<Figure size 432x288 with 0 Axes>"
      ]
     },
     "metadata": {},
     "output_type": "display_data"
    }
   ],
   "source": [
    "plt.scatter(df.Age, df.Fare)\n",
    "plt.show()\n",
    "plt.savefig('sigmoidal.png')"
   ]
  }
 ],
 "metadata": {
  "colab": {
   "collapsed_sections": [],
   "name": "DSNP3.0_Google Colab e Jupyter Notebook.ipynb",
   "provenance": []
  },
  "kernelspec": {
   "display_name": "Python 3",
   "language": "python",
   "name": "python3"
  },
  "language_info": {
   "codemirror_mode": {
    "name": "ipython",
    "version": 3
   },
   "file_extension": ".py",
   "mimetype": "text/x-python",
   "name": "python",
   "nbconvert_exporter": "python",
   "pygments_lexer": "ipython3",
   "version": "3.8.8"
  }
 },
 "nbformat": 4,
 "nbformat_minor": 1
}
