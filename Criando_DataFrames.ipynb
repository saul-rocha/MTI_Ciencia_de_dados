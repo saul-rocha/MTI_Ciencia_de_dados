{
 "cells": [
  {
   "cell_type": "markdown",
   "metadata": {
    "id": "vvplGyW2N3rX"
   },
   "source": [
    "# Criando DataFrames\n",
    "\n",
    "No *notebook* anterior, importamos diretamente um arquivo `csv` da internet para uma estrutura *DataFrame*. Quando usamos a função `pd.read('arquivo.csv')` o Pandas já entendendo como deve agir em relação à estrutura de linhas e colunas.\n",
    "\n",
    "<center><img src=\"https://raw.githubusercontent.com/carlosfab/curso_data_science_na_pratica/master/modulo_02/from_csv_to_df.png\"></center>\n",
    "\n",
    "\n",
    "No entanto, existe a possibilidade de criarmos na mão um *DataFrame* usando diversas técnicas."
   ]
  },
  {
   "cell_type": "markdown",
   "metadata": {
    "id": "ug5l9vrTrsap"
   },
   "source": [
    "## DataFrames a partir de Dicionários\n",
    "\n",
    "Uma das estruturas básicas do Python é o Dicionário. É muito conveniente informarmos nossos dados em uma variável do tipo `dict`, pois sua conversão em *DataFrame* é muito simples e direta."
   ]
  },
  {
   "cell_type": "code",
   "execution_count": 47,
   "metadata": {
    "id": "bg1TtdzXAIzi"
   },
   "outputs": [],
   "source": [
    "# importar pandas\n",
    "import pandas as pd"
   ]
  },
  {
   "cell_type": "markdown",
   "metadata": {
    "id": "dXVxll2mKzSN"
   },
   "source": [
    "Com o Pandas importado e pronto para ser usado, o próximo passo é criar um dicionário, que irá receber os nossos dados."
   ]
  },
  {
   "cell_type": "code",
   "execution_count": 48,
   "metadata": {
    "id": "c_0eor9vtkYm"
   },
   "outputs": [],
   "source": [
    "# criar dicionário\n",
    "dados = {\n",
    "    'nome': ['Carlos', 'Theo', 'Raquel', 'Fernanda'],\n",
    "    'idade': [35, 32, 15, 49],\n",
    "    'cidade': ['Araraquara', 'Belém', 'Natal', 'Curitiba'],\n",
    "    'comprou': [True, False, False, True]\n",
    "}"
   ]
  },
  {
   "cell_type": "markdown",
   "metadata": {
    "id": "8zdOOZFwK6V0"
   },
   "source": [
    "Uma vez criado o dicionário, com um simples comando conseguimos transformá-lo em um DataFrame."
   ]
  },
  {
   "cell_type": "code",
   "execution_count": 49,
   "metadata": {
    "id": "-K51-hGnAPBg"
   },
   "outputs": [],
   "source": [
    "# criar DataFrame\n",
    "df = pd.DataFrame(dados)"
   ]
  },
  {
   "cell_type": "markdown",
   "metadata": {
    "id": "JwvEaF9tLBYV"
   },
   "source": [
    "Para visualizar o DataFrame, basta chamar o objeto `df` que criamos anteriormente."
   ]
  },
  {
   "cell_type": "code",
   "execution_count": 50,
   "metadata": {
    "colab": {
     "base_uri": "https://localhost:8080/",
     "height": 173
    },
    "id": "tcrpgd-XAR6b",
    "outputId": "29751431-a94e-4b48-fc7b-6fd01d05dcc5"
   },
   "outputs": [
    {
     "data": {
      "text/html": [
       "<div>\n",
       "<style scoped>\n",
       "    .dataframe tbody tr th:only-of-type {\n",
       "        vertical-align: middle;\n",
       "    }\n",
       "\n",
       "    .dataframe tbody tr th {\n",
       "        vertical-align: top;\n",
       "    }\n",
       "\n",
       "    .dataframe thead th {\n",
       "        text-align: right;\n",
       "    }\n",
       "</style>\n",
       "<table border=\"1\" class=\"dataframe\">\n",
       "  <thead>\n",
       "    <tr style=\"text-align: right;\">\n",
       "      <th></th>\n",
       "      <th>nome</th>\n",
       "      <th>idade</th>\n",
       "      <th>cidade</th>\n",
       "      <th>comprou</th>\n",
       "    </tr>\n",
       "  </thead>\n",
       "  <tbody>\n",
       "    <tr>\n",
       "      <th>0</th>\n",
       "      <td>Carlos</td>\n",
       "      <td>35</td>\n",
       "      <td>Araraquara</td>\n",
       "      <td>True</td>\n",
       "    </tr>\n",
       "    <tr>\n",
       "      <th>1</th>\n",
       "      <td>Theo</td>\n",
       "      <td>32</td>\n",
       "      <td>Belém</td>\n",
       "      <td>False</td>\n",
       "    </tr>\n",
       "    <tr>\n",
       "      <th>2</th>\n",
       "      <td>Raquel</td>\n",
       "      <td>15</td>\n",
       "      <td>Natal</td>\n",
       "      <td>False</td>\n",
       "    </tr>\n",
       "    <tr>\n",
       "      <th>3</th>\n",
       "      <td>Fernanda</td>\n",
       "      <td>49</td>\n",
       "      <td>Curitiba</td>\n",
       "      <td>True</td>\n",
       "    </tr>\n",
       "  </tbody>\n",
       "</table>\n",
       "</div>"
      ],
      "text/plain": [
       "       nome  idade      cidade  comprou\n",
       "0    Carlos     35  Araraquara     True\n",
       "1      Theo     32       Belém    False\n",
       "2    Raquel     15       Natal    False\n",
       "3  Fernanda     49    Curitiba     True"
      ]
     },
     "execution_count": 50,
     "metadata": {},
     "output_type": "execute_result"
    }
   ],
   "source": [
    "# visualizar DataFrame\n",
    "df"
   ]
  },
  {
   "cell_type": "markdown",
   "metadata": {
    "id": "hRsHwVmNLID-"
   },
   "source": [
    "Uma vez criado o dicionário, podemos também adicionar elementos a ele. Por exemplo, podemos criar uma lista de id dos usuários do nosso DataFrame e passar essa lista como index do nosso dataframe."
   ]
  },
  {
   "cell_type": "code",
   "execution_count": 51,
   "metadata": {
    "id": "5zg1mzDUAbAG"
   },
   "outputs": [],
   "source": [
    "# criar id do usuário\n",
    "id_usuario = [8712, 5831, 4421, 9873]"
   ]
  },
  {
   "cell_type": "markdown",
   "metadata": {
    "id": "GKAui4qiLV6s"
   },
   "source": [
    "Para definir o index de um data frame, vamos usar a função `df.index`."
   ]
  },
  {
   "cell_type": "code",
   "execution_count": 52,
   "metadata": {
    "id": "N443WKTvAp3G"
   },
   "outputs": [],
   "source": [
    "# associar o id do usuário à lista\n",
    "df.index = id_usuario"
   ]
  },
  {
   "cell_type": "markdown",
   "metadata": {
    "id": "JcWAT-uRLakn"
   },
   "source": [
    "Para conferir o resultado, basta chamar o df mais uma vez."
   ]
  },
  {
   "cell_type": "code",
   "execution_count": 53,
   "metadata": {
    "colab": {
     "base_uri": "https://localhost:8080/",
     "height": 173
    },
    "id": "A6Fhe-svAucS",
    "outputId": "04b0e8f5-efa6-4be5-8ee9-d1d372c67131"
   },
   "outputs": [
    {
     "data": {
      "text/html": [
       "<div>\n",
       "<style scoped>\n",
       "    .dataframe tbody tr th:only-of-type {\n",
       "        vertical-align: middle;\n",
       "    }\n",
       "\n",
       "    .dataframe tbody tr th {\n",
       "        vertical-align: top;\n",
       "    }\n",
       "\n",
       "    .dataframe thead th {\n",
       "        text-align: right;\n",
       "    }\n",
       "</style>\n",
       "<table border=\"1\" class=\"dataframe\">\n",
       "  <thead>\n",
       "    <tr style=\"text-align: right;\">\n",
       "      <th></th>\n",
       "      <th>nome</th>\n",
       "      <th>idade</th>\n",
       "      <th>cidade</th>\n",
       "      <th>comprou</th>\n",
       "    </tr>\n",
       "  </thead>\n",
       "  <tbody>\n",
       "    <tr>\n",
       "      <th>8712</th>\n",
       "      <td>Carlos</td>\n",
       "      <td>35</td>\n",
       "      <td>Araraquara</td>\n",
       "      <td>True</td>\n",
       "    </tr>\n",
       "    <tr>\n",
       "      <th>5831</th>\n",
       "      <td>Theo</td>\n",
       "      <td>32</td>\n",
       "      <td>Belém</td>\n",
       "      <td>False</td>\n",
       "    </tr>\n",
       "    <tr>\n",
       "      <th>4421</th>\n",
       "      <td>Raquel</td>\n",
       "      <td>15</td>\n",
       "      <td>Natal</td>\n",
       "      <td>False</td>\n",
       "    </tr>\n",
       "    <tr>\n",
       "      <th>9873</th>\n",
       "      <td>Fernanda</td>\n",
       "      <td>49</td>\n",
       "      <td>Curitiba</td>\n",
       "      <td>True</td>\n",
       "    </tr>\n",
       "  </tbody>\n",
       "</table>\n",
       "</div>"
      ],
      "text/plain": [
       "          nome  idade      cidade  comprou\n",
       "8712    Carlos     35  Araraquara     True\n",
       "5831      Theo     32       Belém    False\n",
       "4421    Raquel     15       Natal    False\n",
       "9873  Fernanda     49    Curitiba     True"
      ]
     },
     "execution_count": 53,
     "metadata": {},
     "output_type": "execute_result"
    }
   ],
   "source": [
    "# ver o dataframe\n",
    "df"
   ]
  },
  {
   "cell_type": "markdown",
   "metadata": {
    "id": "Vy7_qfLMuhZE"
   },
   "source": [
    "## DataFrames a partir de Listas\n",
    "\n",
    "Listas também são estruturas muito usadas em Python, e não é incomum termos que criar *DataFrames*  a partir destas.\n",
    "\n",
    "Para organizar nossas várias listas de um modo que seja fácil sia conversão em *DataFrame*, vou usar a função *built-in* `zip()`."
   ]
  },
  {
   "cell_type": "code",
   "execution_count": 54,
   "metadata": {
    "colab": {
     "base_uri": "https://localhost:8080/",
     "height": 173
    },
    "id": "szoV_HzFvgDf",
    "outputId": "921d4412-1647-4f76-d04b-c85fa6c88dcf"
   },
   "outputs": [
    {
     "data": {
      "text/html": [
       "<div>\n",
       "<style scoped>\n",
       "    .dataframe tbody tr th:only-of-type {\n",
       "        vertical-align: middle;\n",
       "    }\n",
       "\n",
       "    .dataframe tbody tr th {\n",
       "        vertical-align: top;\n",
       "    }\n",
       "\n",
       "    .dataframe thead th {\n",
       "        text-align: right;\n",
       "    }\n",
       "</style>\n",
       "<table border=\"1\" class=\"dataframe\">\n",
       "  <thead>\n",
       "    <tr style=\"text-align: right;\">\n",
       "      <th></th>\n",
       "      <th>nome</th>\n",
       "      <th>idade</th>\n",
       "      <th>cidade</th>\n",
       "      <th>comprou</th>\n",
       "    </tr>\n",
       "  </thead>\n",
       "  <tbody>\n",
       "    <tr>\n",
       "      <th>124</th>\n",
       "      <td>Carlos</td>\n",
       "      <td>35</td>\n",
       "      <td>Araraquara</td>\n",
       "      <td>True</td>\n",
       "    </tr>\n",
       "    <tr>\n",
       "      <th>543</th>\n",
       "      <td>Theo</td>\n",
       "      <td>32</td>\n",
       "      <td>Natal</td>\n",
       "      <td>False</td>\n",
       "    </tr>\n",
       "    <tr>\n",
       "      <th>999</th>\n",
       "      <td>Raquel</td>\n",
       "      <td>12</td>\n",
       "      <td>SJC</td>\n",
       "      <td>True</td>\n",
       "    </tr>\n",
       "    <tr>\n",
       "      <th>214</th>\n",
       "      <td>Fernanda</td>\n",
       "      <td>14</td>\n",
       "      <td>Brasilia</td>\n",
       "      <td>True</td>\n",
       "    </tr>\n",
       "  </tbody>\n",
       "</table>\n",
       "</div>"
      ],
      "text/plain": [
       "         nome  idade      cidade comprou\n",
       "124    Carlos     35  Araraquara    True\n",
       "543      Theo     32       Natal   False\n",
       "999    Raquel     12         SJC    True\n",
       "214  Fernanda     14    Brasilia    True"
      ]
     },
     "execution_count": 54,
     "metadata": {},
     "output_type": "execute_result"
    }
   ],
   "source": [
    "# listas\n",
    "dados = [['Carlos', 35, 'Araraquara', 'True'],\n",
    "         ['Theo', 32, 'Natal', 'False'],\n",
    "         ['Raquel', 12, 'SJC', 'True'],\n",
    "         ['Fernanda', 14, 'Brasilia', 'True']]\n",
    "\n",
    "# criar DataFrame\n",
    "df = pd.DataFrame(dados, columns=['nome', 'idade', 'cidade', 'comprou'],\n",
    "                  index=[124, 543, 999, 214])\n",
    "\n",
    "# visualizar DataFrame\n",
    "df"
   ]
  },
  {
   "cell_type": "markdown",
   "metadata": {
    "id": "jBRNLlfdLfgA"
   },
   "source": [
    "Podemos utilizar a função `loc` para selecionar linhas através do index."
   ]
  },
  {
   "cell_type": "code",
   "execution_count": 55,
   "metadata": {
    "colab": {
     "base_uri": "https://localhost:8080/",
     "height": 107
    },
    "id": "-gr98OrxB3zW",
    "outputId": "ce289c41-91bd-457a-9b90-9926215628ae"
   },
   "outputs": [
    {
     "data": {
      "text/plain": [
       "nome           Carlos\n",
       "idade              35\n",
       "cidade     Araraquara\n",
       "comprou          True\n",
       "Name: 124, dtype: object"
      ]
     },
     "execution_count": 55,
     "metadata": {},
     "output_type": "execute_result"
    }
   ],
   "source": [
    "# selecionar pelo index\n",
    "df.loc[124]"
   ]
  },
  {
   "cell_type": "markdown",
   "metadata": {
    "id": "qtoPc3X40Bal"
   },
   "source": [
    "## Criar novas colunas\n",
    "\n",
    "Uma maneira extremamente conveniente de criar novas colunas em um *DataFrame* é usar uma funcionalidade do Pandas conhecida como *broadcasting*.\n",
    "\n",
    "Informanda o nome da nova coluna e declarando apenas um valor, este é replicado para todas as linhas do *DataFrame*"
   ]
  },
  {
   "cell_type": "code",
   "execution_count": 56,
   "metadata": {
    "colab": {
     "base_uri": "https://localhost:8080/",
     "height": 173
    },
    "id": "wfw9Ojec1ED3",
    "outputId": "005d6918-a033-448e-b0d3-1b4e49e4dd9d"
   },
   "outputs": [
    {
     "data": {
      "text/html": [
       "<div>\n",
       "<style scoped>\n",
       "    .dataframe tbody tr th:only-of-type {\n",
       "        vertical-align: middle;\n",
       "    }\n",
       "\n",
       "    .dataframe tbody tr th {\n",
       "        vertical-align: top;\n",
       "    }\n",
       "\n",
       "    .dataframe thead th {\n",
       "        text-align: right;\n",
       "    }\n",
       "</style>\n",
       "<table border=\"1\" class=\"dataframe\">\n",
       "  <thead>\n",
       "    <tr style=\"text-align: right;\">\n",
       "      <th></th>\n",
       "      <th>nome</th>\n",
       "      <th>idade</th>\n",
       "      <th>cidade</th>\n",
       "      <th>comprou</th>\n",
       "      <th>saldo</th>\n",
       "    </tr>\n",
       "  </thead>\n",
       "  <tbody>\n",
       "    <tr>\n",
       "      <th>124</th>\n",
       "      <td>Carlos</td>\n",
       "      <td>35</td>\n",
       "      <td>Araraquara</td>\n",
       "      <td>True</td>\n",
       "      <td>0.0</td>\n",
       "    </tr>\n",
       "    <tr>\n",
       "      <th>543</th>\n",
       "      <td>Theo</td>\n",
       "      <td>32</td>\n",
       "      <td>Natal</td>\n",
       "      <td>False</td>\n",
       "      <td>0.0</td>\n",
       "    </tr>\n",
       "    <tr>\n",
       "      <th>999</th>\n",
       "      <td>Raquel</td>\n",
       "      <td>12</td>\n",
       "      <td>SJC</td>\n",
       "      <td>True</td>\n",
       "      <td>0.0</td>\n",
       "    </tr>\n",
       "    <tr>\n",
       "      <th>214</th>\n",
       "      <td>Fernanda</td>\n",
       "      <td>14</td>\n",
       "      <td>Brasilia</td>\n",
       "      <td>True</td>\n",
       "      <td>0.0</td>\n",
       "    </tr>\n",
       "  </tbody>\n",
       "</table>\n",
       "</div>"
      ],
      "text/plain": [
       "         nome  idade      cidade comprou  saldo\n",
       "124    Carlos     35  Araraquara    True    0.0\n",
       "543      Theo     32       Natal   False    0.0\n",
       "999    Raquel     12         SJC    True    0.0\n",
       "214  Fernanda     14    Brasilia    True    0.0"
      ]
     },
     "execution_count": 56,
     "metadata": {},
     "output_type": "execute_result"
    }
   ],
   "source": [
    "# criar coluna \"saldo\"\n",
    "df['saldo'] = 0.0\n",
    "\n",
    "# visualizar DataFrame\n",
    "df"
   ]
  },
  {
   "cell_type": "markdown",
   "metadata": {
    "id": "nmYdZtGu1NZL"
   },
   "source": [
    "## Modificar *index* e colunas\n",
    "\n",
    "Às vezes, precisamos alterar o nome dos índices ou o *label* das colunas. Se você olhar na célula acima, veja que na esquerda do *DataFrame* o index de cada linha é representado por um número entre 0 e 3.\n",
    "\n",
    "É possível alterar esse atributo da variável acessando diretamente assim:"
   ]
  },
  {
   "cell_type": "code",
   "execution_count": 57,
   "metadata": {
    "colab": {
     "base_uri": "https://localhost:8080/",
     "height": 34
    },
    "id": "tiGByguXlPUc",
    "outputId": "f927584d-ccf5-4ac9-e69e-c39da453b8a5"
   },
   "outputs": [
    {
     "data": {
      "text/plain": [
       "Int64Index([124, 543, 999, 214], dtype='int64')"
      ]
     },
     "execution_count": 57,
     "metadata": {},
     "output_type": "execute_result"
    }
   ],
   "source": [
    "df.index"
   ]
  },
  {
   "cell_type": "code",
   "execution_count": 58,
   "metadata": {
    "colab": {
     "base_uri": "https://localhost:8080/",
     "height": 173
    },
    "id": "I-x7DIoU2I56",
    "outputId": "62d21dd1-8fe8-49c9-e059-5e9e155d99ef"
   },
   "outputs": [
    {
     "data": {
      "text/html": [
       "<div>\n",
       "<style scoped>\n",
       "    .dataframe tbody tr th:only-of-type {\n",
       "        vertical-align: middle;\n",
       "    }\n",
       "\n",
       "    .dataframe tbody tr th {\n",
       "        vertical-align: top;\n",
       "    }\n",
       "\n",
       "    .dataframe thead th {\n",
       "        text-align: right;\n",
       "    }\n",
       "</style>\n",
       "<table border=\"1\" class=\"dataframe\">\n",
       "  <thead>\n",
       "    <tr style=\"text-align: right;\">\n",
       "      <th></th>\n",
       "      <th>nome</th>\n",
       "      <th>idade</th>\n",
       "      <th>cidade</th>\n",
       "      <th>comprou</th>\n",
       "      <th>saldo</th>\n",
       "    </tr>\n",
       "  </thead>\n",
       "  <tbody>\n",
       "    <tr>\n",
       "      <th>a</th>\n",
       "      <td>Carlos</td>\n",
       "      <td>35</td>\n",
       "      <td>Araraquara</td>\n",
       "      <td>True</td>\n",
       "      <td>0.0</td>\n",
       "    </tr>\n",
       "    <tr>\n",
       "      <th>b</th>\n",
       "      <td>Theo</td>\n",
       "      <td>32</td>\n",
       "      <td>Natal</td>\n",
       "      <td>False</td>\n",
       "      <td>0.0</td>\n",
       "    </tr>\n",
       "    <tr>\n",
       "      <th>c</th>\n",
       "      <td>Raquel</td>\n",
       "      <td>12</td>\n",
       "      <td>SJC</td>\n",
       "      <td>True</td>\n",
       "      <td>0.0</td>\n",
       "    </tr>\n",
       "    <tr>\n",
       "      <th>d</th>\n",
       "      <td>Fernanda</td>\n",
       "      <td>14</td>\n",
       "      <td>Brasilia</td>\n",
       "      <td>True</td>\n",
       "      <td>0.0</td>\n",
       "    </tr>\n",
       "  </tbody>\n",
       "</table>\n",
       "</div>"
      ],
      "text/plain": [
       "       nome  idade      cidade comprou  saldo\n",
       "a    Carlos     35  Araraquara    True    0.0\n",
       "b      Theo     32       Natal   False    0.0\n",
       "c    Raquel     12         SJC    True    0.0\n",
       "d  Fernanda     14    Brasilia    True    0.0"
      ]
     },
     "execution_count": 58,
     "metadata": {},
     "output_type": "execute_result"
    }
   ],
   "source": [
    "# alterar o index do df\n",
    "df.index = ['a', 'b', 'c', 'd']\n",
    "\n",
    "# visualizar DataFrame\n",
    "df"
   ]
  },
  {
   "cell_type": "markdown",
   "metadata": {
    "id": "nraFA_Zw2SKT"
   },
   "source": [
    "Da mesma maneira, se eu precisar alterar o nome das colunas, posso alterar diretamente no atributo da variável:"
   ]
  },
  {
   "cell_type": "code",
   "execution_count": 59,
   "metadata": {
    "colab": {
     "base_uri": "https://localhost:8080/",
     "height": 173
    },
    "id": "9cZdwkoq2aPG",
    "outputId": "66746e30-5a50-4fe2-d3af-d7a3864ed9c8"
   },
   "outputs": [
    {
     "data": {
      "text/html": [
       "<div>\n",
       "<style scoped>\n",
       "    .dataframe tbody tr th:only-of-type {\n",
       "        vertical-align: middle;\n",
       "    }\n",
       "\n",
       "    .dataframe tbody tr th {\n",
       "        vertical-align: top;\n",
       "    }\n",
       "\n",
       "    .dataframe thead th {\n",
       "        text-align: right;\n",
       "    }\n",
       "</style>\n",
       "<table border=\"1\" class=\"dataframe\">\n",
       "  <thead>\n",
       "    <tr style=\"text-align: right;\">\n",
       "      <th></th>\n",
       "      <th>Nome do Cliente</th>\n",
       "      <th>Idade</th>\n",
       "      <th>Naturalidade</th>\n",
       "      <th>Fez Compras?</th>\n",
       "      <th>Saldo na Loja</th>\n",
       "    </tr>\n",
       "  </thead>\n",
       "  <tbody>\n",
       "    <tr>\n",
       "      <th>a</th>\n",
       "      <td>Carlos</td>\n",
       "      <td>35</td>\n",
       "      <td>Araraquara</td>\n",
       "      <td>True</td>\n",
       "      <td>0.0</td>\n",
       "    </tr>\n",
       "    <tr>\n",
       "      <th>b</th>\n",
       "      <td>Theo</td>\n",
       "      <td>32</td>\n",
       "      <td>Natal</td>\n",
       "      <td>False</td>\n",
       "      <td>0.0</td>\n",
       "    </tr>\n",
       "    <tr>\n",
       "      <th>c</th>\n",
       "      <td>Raquel</td>\n",
       "      <td>12</td>\n",
       "      <td>SJC</td>\n",
       "      <td>True</td>\n",
       "      <td>0.0</td>\n",
       "    </tr>\n",
       "    <tr>\n",
       "      <th>d</th>\n",
       "      <td>Fernanda</td>\n",
       "      <td>14</td>\n",
       "      <td>Brasilia</td>\n",
       "      <td>True</td>\n",
       "      <td>0.0</td>\n",
       "    </tr>\n",
       "  </tbody>\n",
       "</table>\n",
       "</div>"
      ],
      "text/plain": [
       "  Nome do Cliente  Idade Naturalidade Fez Compras?  Saldo na Loja\n",
       "a          Carlos     35   Araraquara         True            0.0\n",
       "b            Theo     32        Natal        False            0.0\n",
       "c          Raquel     12          SJC         True            0.0\n",
       "d        Fernanda     14     Brasilia         True            0.0"
      ]
     },
     "execution_count": 59,
     "metadata": {},
     "output_type": "execute_result"
    }
   ],
   "source": [
    "# alterar os labels das colunas\n",
    "df.columns = ['Nome do Cliente', \"Idade\", \"Naturalidade\", \"Fez Compras?\", \"Saldo na Loja\"]\n",
    "\n",
    "# visualizar DataFrame\n",
    "df"
   ]
  }
 ],
 "metadata": {
  "colab": {
   "collapsed_sections": [],
   "name": "DSNP 3.0 -  Criando DataFrames.ipynb",
   "provenance": []
  },
  "kernelspec": {
   "display_name": "Python 3",
   "language": "python",
   "name": "python3"
  },
  "language_info": {
   "codemirror_mode": {
    "name": "ipython",
    "version": 3
   },
   "file_extension": ".py",
   "mimetype": "text/x-python",
   "name": "python",
   "nbconvert_exporter": "python",
   "pygments_lexer": "ipython3",
   "version": "3.8.8"
  }
 },
 "nbformat": 4,
 "nbformat_minor": 1
}
